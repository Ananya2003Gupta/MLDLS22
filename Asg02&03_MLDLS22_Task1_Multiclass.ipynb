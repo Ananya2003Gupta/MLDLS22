{
  "nbformat": 4,
  "nbformat_minor": 0,
  "metadata": {
    "colab": {
      "name": "Asg02&03_MLDLS22_Task1_Multiclass.ipynb",
      "provenance": [],
      "collapsed_sections": [],
      "authorship_tag": "ABX9TyPoiluAw+bDJ8RJcgCJ8nur",
      "include_colab_link": true
    },
    "kernelspec": {
      "name": "python3",
      "display_name": "Python 3"
    },
    "language_info": {
      "name": "python"
    }
  },
  "cells": [
    {
      "cell_type": "markdown",
      "metadata": {
        "id": "view-in-github",
        "colab_type": "text"
      },
      "source": [
        "<a href=\"https://colab.research.google.com/github/Ananya2003Gupta/MLDLS22/blob/main/Asg02%2603_MLDLS22_Task1_Multiclass.ipynb\" target=\"_parent\"><img src=\"https://colab.research.google.com/assets/colab-badge.svg\" alt=\"Open In Colab\"/></a>"
      ]
    },
    {
      "cell_type": "markdown",
      "source": [
        "#**Supervised Learning Classification**"
      ],
      "metadata": {
        "id": "eoj-QAFV1J_n"
      }
    },
    {
      "cell_type": "markdown",
      "source": [
        "#**Multiclass Classification**"
      ],
      "metadata": {
        "id": "TBbsbZAc1RNQ"
      }
    },
    {
      "cell_type": "markdown",
      "source": [
        "#**Drug Classification**"
      ],
      "metadata": {
        "id": "vHQ39Z821W-h"
      }
    },
    {
      "cell_type": "markdown",
      "source": [
        "#Importing or Uploading Dataset"
      ],
      "metadata": {
        "id": "t42dnOK81vPz"
      }
    },
    {
      "cell_type": "code",
      "source": [
        "from google.colab import files\n",
        "\n",
        "uploaded = files.upload()\n",
        "\n",
        "for fn in uploaded.keys():\n",
        "  print('User uploaded file \"{name}\" with length {length} bytes'.format(\n",
        "      name=fn, length=len(uploaded[fn])))"
      ],
      "metadata": {
        "colab": {
          "resources": {
            "http://localhost:8080/nbextensions/google.colab/files.js": {
              "data": "Ly8gQ29weXJpZ2h0IDIwMTcgR29vZ2xlIExMQwovLwovLyBMaWNlbnNlZCB1bmRlciB0aGUgQXBhY2hlIExpY2Vuc2UsIFZlcnNpb24gMi4wICh0aGUgIkxpY2Vuc2UiKTsKLy8geW91IG1heSBub3QgdXNlIHRoaXMgZmlsZSBleGNlcHQgaW4gY29tcGxpYW5jZSB3aXRoIHRoZSBMaWNlbnNlLgovLyBZb3UgbWF5IG9idGFpbiBhIGNvcHkgb2YgdGhlIExpY2Vuc2UgYXQKLy8KLy8gICAgICBodHRwOi8vd3d3LmFwYWNoZS5vcmcvbGljZW5zZXMvTElDRU5TRS0yLjAKLy8KLy8gVW5sZXNzIHJlcXVpcmVkIGJ5IGFwcGxpY2FibGUgbGF3IG9yIGFncmVlZCB0byBpbiB3cml0aW5nLCBzb2Z0d2FyZQovLyBkaXN0cmlidXRlZCB1bmRlciB0aGUgTGljZW5zZSBpcyBkaXN0cmlidXRlZCBvbiBhbiAiQVMgSVMiIEJBU0lTLAovLyBXSVRIT1VUIFdBUlJBTlRJRVMgT1IgQ09ORElUSU9OUyBPRiBBTlkgS0lORCwgZWl0aGVyIGV4cHJlc3Mgb3IgaW1wbGllZC4KLy8gU2VlIHRoZSBMaWNlbnNlIGZvciB0aGUgc3BlY2lmaWMgbGFuZ3VhZ2UgZ292ZXJuaW5nIHBlcm1pc3Npb25zIGFuZAovLyBsaW1pdGF0aW9ucyB1bmRlciB0aGUgTGljZW5zZS4KCi8qKgogKiBAZmlsZW92ZXJ2aWV3IEhlbHBlcnMgZm9yIGdvb2dsZS5jb2xhYiBQeXRob24gbW9kdWxlLgogKi8KKGZ1bmN0aW9uKHNjb3BlKSB7CmZ1bmN0aW9uIHNwYW4odGV4dCwgc3R5bGVBdHRyaWJ1dGVzID0ge30pIHsKICBjb25zdCBlbGVtZW50ID0gZG9jdW1lbnQuY3JlYXRlRWxlbWVudCgnc3BhbicpOwogIGVsZW1lbnQudGV4dENvbnRlbnQgPSB0ZXh0OwogIGZvciAoY29uc3Qga2V5IG9mIE9iamVjdC5rZXlzKHN0eWxlQXR0cmlidXRlcykpIHsKICAgIGVsZW1lbnQuc3R5bGVba2V5XSA9IHN0eWxlQXR0cmlidXRlc1trZXldOwogIH0KICByZXR1cm4gZWxlbWVudDsKfQoKLy8gTWF4IG51bWJlciBvZiBieXRlcyB3aGljaCB3aWxsIGJlIHVwbG9hZGVkIGF0IGEgdGltZS4KY29uc3QgTUFYX1BBWUxPQURfU0laRSA9IDEwMCAqIDEwMjQ7CgpmdW5jdGlvbiBfdXBsb2FkRmlsZXMoaW5wdXRJZCwgb3V0cHV0SWQpIHsKICBjb25zdCBzdGVwcyA9IHVwbG9hZEZpbGVzU3RlcChpbnB1dElkLCBvdXRwdXRJZCk7CiAgY29uc3Qgb3V0cHV0RWxlbWVudCA9IGRvY3VtZW50LmdldEVsZW1lbnRCeUlkKG91dHB1dElkKTsKICAvLyBDYWNoZSBzdGVwcyBvbiB0aGUgb3V0cHV0RWxlbWVudCB0byBtYWtlIGl0IGF2YWlsYWJsZSBmb3IgdGhlIG5leHQgY2FsbAogIC8vIHRvIHVwbG9hZEZpbGVzQ29udGludWUgZnJvbSBQeXRob24uCiAgb3V0cHV0RWxlbWVudC5zdGVwcyA9IHN0ZXBzOwoKICByZXR1cm4gX3VwbG9hZEZpbGVzQ29udGludWUob3V0cHV0SWQpOwp9CgovLyBUaGlzIGlzIHJvdWdobHkgYW4gYXN5bmMgZ2VuZXJhdG9yIChub3Qgc3VwcG9ydGVkIGluIHRoZSBicm93c2VyIHlldCksCi8vIHdoZXJlIHRoZXJlIGFyZSBtdWx0aXBsZSBhc3luY2hyb25vdXMgc3RlcHMgYW5kIHRoZSBQeXRob24gc2lkZSBpcyBnb2luZwovLyB0byBwb2xsIGZvciBjb21wbGV0aW9uIG9mIGVhY2ggc3RlcC4KLy8gVGhpcyB1c2VzIGEgUHJvbWlzZSB0byBibG9jayB0aGUgcHl0aG9uIHNpZGUgb24gY29tcGxldGlvbiBvZiBlYWNoIHN0ZXAsCi8vIHRoZW4gcGFzc2VzIHRoZSByZXN1bHQgb2YgdGhlIHByZXZpb3VzIHN0ZXAgYXMgdGhlIGlucHV0IHRvIHRoZSBuZXh0IHN0ZXAuCmZ1bmN0aW9uIF91cGxvYWRGaWxlc0NvbnRpbnVlKG91dHB1dElkKSB7CiAgY29uc3Qgb3V0cHV0RWxlbWVudCA9IGRvY3VtZW50LmdldEVsZW1lbnRCeUlkKG91dHB1dElkKTsKICBjb25zdCBzdGVwcyA9IG91dHB1dEVsZW1lbnQuc3RlcHM7CgogIGNvbnN0IG5leHQgPSBzdGVwcy5uZXh0KG91dHB1dEVsZW1lbnQubGFzdFByb21pc2VWYWx1ZSk7CiAgcmV0dXJuIFByb21pc2UucmVzb2x2ZShuZXh0LnZhbHVlLnByb21pc2UpLnRoZW4oKHZhbHVlKSA9PiB7CiAgICAvLyBDYWNoZSB0aGUgbGFzdCBwcm9taXNlIHZhbHVlIHRvIG1ha2UgaXQgYXZhaWxhYmxlIHRvIHRoZSBuZXh0CiAgICAvLyBzdGVwIG9mIHRoZSBnZW5lcmF0b3IuCiAgICBvdXRwdXRFbGVtZW50Lmxhc3RQcm9taXNlVmFsdWUgPSB2YWx1ZTsKICAgIHJldHVybiBuZXh0LnZhbHVlLnJlc3BvbnNlOwogIH0pOwp9CgovKioKICogR2VuZXJhdG9yIGZ1bmN0aW9uIHdoaWNoIGlzIGNhbGxlZCBiZXR3ZWVuIGVhY2ggYXN5bmMgc3RlcCBvZiB0aGUgdXBsb2FkCiAqIHByb2Nlc3MuCiAqIEBwYXJhbSB7c3RyaW5nfSBpbnB1dElkIEVsZW1lbnQgSUQgb2YgdGhlIGlucHV0IGZpbGUgcGlja2VyIGVsZW1lbnQuCiAqIEBwYXJhbSB7c3RyaW5nfSBvdXRwdXRJZCBFbGVtZW50IElEIG9mIHRoZSBvdXRwdXQgZGlzcGxheS4KICogQHJldHVybiB7IUl0ZXJhYmxlPCFPYmplY3Q+fSBJdGVyYWJsZSBvZiBuZXh0IHN0ZXBzLgogKi8KZnVuY3Rpb24qIHVwbG9hZEZpbGVzU3RlcChpbnB1dElkLCBvdXRwdXRJZCkgewogIGNvbnN0IGlucHV0RWxlbWVudCA9IGRvY3VtZW50LmdldEVsZW1lbnRCeUlkKGlucHV0SWQpOwogIGlucHV0RWxlbWVudC5kaXNhYmxlZCA9IGZhbHNlOwoKICBjb25zdCBvdXRwdXRFbGVtZW50ID0gZG9jdW1lbnQuZ2V0RWxlbWVudEJ5SWQob3V0cHV0SWQpOwogIG91dHB1dEVsZW1lbnQuaW5uZXJIVE1MID0gJyc7CgogIGNvbnN0IHBpY2tlZFByb21pc2UgPSBuZXcgUHJvbWlzZSgocmVzb2x2ZSkgPT4gewogICAgaW5wdXRFbGVtZW50LmFkZEV2ZW50TGlzdGVuZXIoJ2NoYW5nZScsIChlKSA9PiB7CiAgICAgIHJlc29sdmUoZS50YXJnZXQuZmlsZXMpOwogICAgfSk7CiAgfSk7CgogIGNvbnN0IGNhbmNlbCA9IGRvY3VtZW50LmNyZWF0ZUVsZW1lbnQoJ2J1dHRvbicpOwogIGlucHV0RWxlbWVudC5wYXJlbnRFbGVtZW50LmFwcGVuZENoaWxkKGNhbmNlbCk7CiAgY2FuY2VsLnRleHRDb250ZW50ID0gJ0NhbmNlbCB1cGxvYWQnOwogIGNvbnN0IGNhbmNlbFByb21pc2UgPSBuZXcgUHJvbWlzZSgocmVzb2x2ZSkgPT4gewogICAgY2FuY2VsLm9uY2xpY2sgPSAoKSA9PiB7CiAgICAgIHJlc29sdmUobnVsbCk7CiAgICB9OwogIH0pOwoKICAvLyBXYWl0IGZvciB0aGUgdXNlciB0byBwaWNrIHRoZSBmaWxlcy4KICBjb25zdCBmaWxlcyA9IHlpZWxkIHsKICAgIHByb21pc2U6IFByb21pc2UucmFjZShbcGlja2VkUHJvbWlzZSwgY2FuY2VsUHJvbWlzZV0pLAogICAgcmVzcG9uc2U6IHsKICAgICAgYWN0aW9uOiAnc3RhcnRpbmcnLAogICAgfQogIH07CgogIGNhbmNlbC5yZW1vdmUoKTsKCiAgLy8gRGlzYWJsZSB0aGUgaW5wdXQgZWxlbWVudCBzaW5jZSBmdXJ0aGVyIHBpY2tzIGFyZSBub3QgYWxsb3dlZC4KICBpbnB1dEVsZW1lbnQuZGlzYWJsZWQgPSB0cnVlOwoKICBpZiAoIWZpbGVzKSB7CiAgICByZXR1cm4gewogICAgICByZXNwb25zZTogewogICAgICAgIGFjdGlvbjogJ2NvbXBsZXRlJywKICAgICAgfQogICAgfTsKICB9CgogIGZvciAoY29uc3QgZmlsZSBvZiBmaWxlcykgewogICAgY29uc3QgbGkgPSBkb2N1bWVudC5jcmVhdGVFbGVtZW50KCdsaScpOwogICAgbGkuYXBwZW5kKHNwYW4oZmlsZS5uYW1lLCB7Zm9udFdlaWdodDogJ2JvbGQnfSkpOwogICAgbGkuYXBwZW5kKHNwYW4oCiAgICAgICAgYCgke2ZpbGUudHlwZSB8fCAnbi9hJ30pIC0gJHtmaWxlLnNpemV9IGJ5dGVzLCBgICsKICAgICAgICBgbGFzdCBtb2RpZmllZDogJHsKICAgICAgICAgICAgZmlsZS5sYXN0TW9kaWZpZWREYXRlID8gZmlsZS5sYXN0TW9kaWZpZWREYXRlLnRvTG9jYWxlRGF0ZVN0cmluZygpIDoKICAgICAgICAgICAgICAgICAgICAgICAgICAgICAgICAgICAgJ24vYSd9IC0gYCkpOwogICAgY29uc3QgcGVyY2VudCA9IHNwYW4oJzAlIGRvbmUnKTsKICAgIGxpLmFwcGVuZENoaWxkKHBlcmNlbnQpOwoKICAgIG91dHB1dEVsZW1lbnQuYXBwZW5kQ2hpbGQobGkpOwoKICAgIGNvbnN0IGZpbGVEYXRhUHJvbWlzZSA9IG5ldyBQcm9taXNlKChyZXNvbHZlKSA9PiB7CiAgICAgIGNvbnN0IHJlYWRlciA9IG5ldyBGaWxlUmVhZGVyKCk7CiAgICAgIHJlYWRlci5vbmxvYWQgPSAoZSkgPT4gewogICAgICAgIHJlc29sdmUoZS50YXJnZXQucmVzdWx0KTsKICAgICAgfTsKICAgICAgcmVhZGVyLnJlYWRBc0FycmF5QnVmZmVyKGZpbGUpOwogICAgfSk7CiAgICAvLyBXYWl0IGZvciB0aGUgZGF0YSB0byBiZSByZWFkeS4KICAgIGxldCBmaWxlRGF0YSA9IHlpZWxkIHsKICAgICAgcHJvbWlzZTogZmlsZURhdGFQcm9taXNlLAogICAgICByZXNwb25zZTogewogICAgICAgIGFjdGlvbjogJ2NvbnRpbnVlJywKICAgICAgfQogICAgfTsKCiAgICAvLyBVc2UgYSBjaHVua2VkIHNlbmRpbmcgdG8gYXZvaWQgbWVzc2FnZSBzaXplIGxpbWl0cy4gU2VlIGIvNjIxMTU2NjAuCiAgICBsZXQgcG9zaXRpb24gPSAwOwogICAgZG8gewogICAgICBjb25zdCBsZW5ndGggPSBNYXRoLm1pbihmaWxlRGF0YS5ieXRlTGVuZ3RoIC0gcG9zaXRpb24sIE1BWF9QQVlMT0FEX1NJWkUpOwogICAgICBjb25zdCBjaHVuayA9IG5ldyBVaW50OEFycmF5KGZpbGVEYXRhLCBwb3NpdGlvbiwgbGVuZ3RoKTsKICAgICAgcG9zaXRpb24gKz0gbGVuZ3RoOwoKICAgICAgY29uc3QgYmFzZTY0ID0gYnRvYShTdHJpbmcuZnJvbUNoYXJDb2RlLmFwcGx5KG51bGwsIGNodW5rKSk7CiAgICAgIHlpZWxkIHsKICAgICAgICByZXNwb25zZTogewogICAgICAgICAgYWN0aW9uOiAnYXBwZW5kJywKICAgICAgICAgIGZpbGU6IGZpbGUubmFtZSwKICAgICAgICAgIGRhdGE6IGJhc2U2NCwKICAgICAgICB9LAogICAgICB9OwoKICAgICAgbGV0IHBlcmNlbnREb25lID0gZmlsZURhdGEuYnl0ZUxlbmd0aCA9PT0gMCA/CiAgICAgICAgICAxMDAgOgogICAgICAgICAgTWF0aC5yb3VuZCgocG9zaXRpb24gLyBmaWxlRGF0YS5ieXRlTGVuZ3RoKSAqIDEwMCk7CiAgICAgIHBlcmNlbnQudGV4dENvbnRlbnQgPSBgJHtwZXJjZW50RG9uZX0lIGRvbmVgOwoKICAgIH0gd2hpbGUgKHBvc2l0aW9uIDwgZmlsZURhdGEuYnl0ZUxlbmd0aCk7CiAgfQoKICAvLyBBbGwgZG9uZS4KICB5aWVsZCB7CiAgICByZXNwb25zZTogewogICAgICBhY3Rpb246ICdjb21wbGV0ZScsCiAgICB9CiAgfTsKfQoKc2NvcGUuZ29vZ2xlID0gc2NvcGUuZ29vZ2xlIHx8IHt9OwpzY29wZS5nb29nbGUuY29sYWIgPSBzY29wZS5nb29nbGUuY29sYWIgfHwge307CnNjb3BlLmdvb2dsZS5jb2xhYi5fZmlsZXMgPSB7CiAgX3VwbG9hZEZpbGVzLAogIF91cGxvYWRGaWxlc0NvbnRpbnVlLAp9Owp9KShzZWxmKTsK",
              "ok": true,
              "headers": [
                [
                  "content-type",
                  "application/javascript"
                ]
              ],
              "status": 200,
              "status_text": ""
            }
          },
          "base_uri": "https://localhost:8080/",
          "height": 91
        },
        "id": "nynJe6qaaH-q",
        "outputId": "8cc9fb6e-2749-4af1-c431-e9dd5fdf882c"
      },
      "execution_count": 1,
      "outputs": [
        {
          "output_type": "display_data",
          "data": {
            "text/plain": [
              "<IPython.core.display.HTML object>"
            ],
            "text/html": [
              "\n",
              "     <input type=\"file\" id=\"files-37e0245a-78ec-4359-89d5-cd600690372d\" name=\"files[]\" multiple disabled\n",
              "        style=\"border:none\" />\n",
              "     <output id=\"result-37e0245a-78ec-4359-89d5-cd600690372d\">\n",
              "      Upload widget is only available when the cell has been executed in the\n",
              "      current browser session. Please rerun this cell to enable.\n",
              "      </output>\n",
              "      <script src=\"/nbextensions/google.colab/files.js\"></script> "
            ]
          },
          "metadata": {}
        },
        {
          "output_type": "stream",
          "name": "stdout",
          "text": [
            "Saving drug_classification.csv to drug_classification.csv\n",
            "User uploaded file \"drug_classification.csv\" with length 6029 bytes\n"
          ]
        }
      ]
    },
    {
      "cell_type": "code",
      "execution_count": 2,
      "metadata": {
        "id": "TpXKNHq8g3i3",
        "colab": {
          "base_uri": "https://localhost:8080/"
        },
        "outputId": "44f70a70-c1b8-4de7-83fd-1785a896a5be"
      },
      "outputs": [
        {
          "output_type": "stream",
          "name": "stdout",
          "text": [
            "Mounted at /content/drive\n"
          ]
        }
      ],
      "source": [
        "from google.colab import drive\n",
        "drive.mount('/content/drive')"
      ]
    },
    {
      "cell_type": "markdown",
      "source": [
        "#Importing Libraries"
      ],
      "metadata": {
        "id": "Y7KkG-X12Go_"
      }
    },
    {
      "cell_type": "code",
      "source": [
        "#importing the libraries\n",
        "import pandas as pd \n",
        "import numpy as np \n",
        "import  seaborn as sns\n",
        "import matplotlib.pyplot as plt\n",
        "from sklearn.metrics import accuracy_score"
      ],
      "metadata": {
        "id": "w2Bp6SLohD93"
      },
      "execution_count": 3,
      "outputs": []
    },
    {
      "cell_type": "markdown",
      "source": [
        "#Reading the dataset. Here,Dataset is a csv file"
      ],
      "metadata": {
        "id": "dOM4ytxv2Lu_"
      }
    },
    {
      "cell_type": "code",
      "source": [
        "#loading the dataset\n",
        "df= pd.read_csv('drug_classification.csv')"
      ],
      "metadata": {
        "id": "QkTqP_r-hyIm"
      },
      "execution_count": 4,
      "outputs": []
    },
    {
      "cell_type": "markdown",
      "source": [
        "#Printing the Dataset"
      ],
      "metadata": {
        "id": "75IlViGeTBm3"
      }
    },
    {
      "cell_type": "code",
      "source": [
        "print(df)"
      ],
      "metadata": {
        "colab": {
          "base_uri": "https://localhost:8080/"
        },
        "id": "gpEKRG4KiBV8",
        "outputId": "aa2a02a3-6475-4248-9232-c11ff8fcc414"
      },
      "execution_count": 5,
      "outputs": [
        {
          "output_type": "stream",
          "name": "stdout",
          "text": [
            "     Age Sex      BP Cholesterol  Na_to_K   Drug\n",
            "0     23   F    HIGH        HIGH   25.355  DrugY\n",
            "1     47   M     LOW        HIGH   13.093  drugC\n",
            "2     47   M     LOW        HIGH   10.114  drugC\n",
            "3     28   F  NORMAL        HIGH    7.798  drugX\n",
            "4     61   F     LOW        HIGH   18.043  DrugY\n",
            "..   ...  ..     ...         ...      ...    ...\n",
            "195   56   F     LOW        HIGH   11.567  drugC\n",
            "196   16   M     LOW        HIGH   12.006  drugC\n",
            "197   52   M  NORMAL        HIGH    9.894  drugX\n",
            "198   23   M  NORMAL      NORMAL   14.020  drugX\n",
            "199   40   F     LOW      NORMAL   11.349  drugX\n",
            "\n",
            "[200 rows x 6 columns]\n"
          ]
        }
      ]
    },
    {
      "cell_type": "markdown",
      "source": [
        "#Information about the Dataset"
      ],
      "metadata": {
        "id": "-pKcvoyJ2hDD"
      }
    },
    {
      "cell_type": "code",
      "source": [
        "df.info()"
      ],
      "metadata": {
        "colab": {
          "base_uri": "https://localhost:8080/"
        },
        "id": "3T90PXJpiEMM",
        "outputId": "a8ca652c-cc4a-475f-e753-70dda78dbb79"
      },
      "execution_count": 6,
      "outputs": [
        {
          "output_type": "stream",
          "name": "stdout",
          "text": [
            "<class 'pandas.core.frame.DataFrame'>\n",
            "RangeIndex: 200 entries, 0 to 199\n",
            "Data columns (total 6 columns):\n",
            " #   Column       Non-Null Count  Dtype  \n",
            "---  ------       --------------  -----  \n",
            " 0   Age          200 non-null    int64  \n",
            " 1   Sex          200 non-null    object \n",
            " 2   BP           200 non-null    object \n",
            " 3   Cholesterol  200 non-null    object \n",
            " 4   Na_to_K      200 non-null    float64\n",
            " 5   Drug         200 non-null    object \n",
            "dtypes: float64(1), int64(1), object(4)\n",
            "memory usage: 9.5+ KB\n"
          ]
        }
      ]
    },
    {
      "cell_type": "markdown",
      "source": [
        "#Displaying Datatypes"
      ],
      "metadata": {
        "id": "S6AXX4-E2kU3"
      }
    },
    {
      "cell_type": "code",
      "source": [
        "df.dtypes"
      ],
      "metadata": {
        "colab": {
          "base_uri": "https://localhost:8080/"
        },
        "id": "qS3bixWHvXsH",
        "outputId": "8e1f0a27-44bf-4d5f-c434-fca6f932b81c"
      },
      "execution_count": 7,
      "outputs": [
        {
          "output_type": "execute_result",
          "data": {
            "text/plain": [
              "Age              int64\n",
              "Sex             object\n",
              "BP              object\n",
              "Cholesterol     object\n",
              "Na_to_K        float64\n",
              "Drug            object\n",
              "dtype: object"
            ]
          },
          "metadata": {},
          "execution_count": 7
        }
      ]
    },
    {
      "cell_type": "markdown",
      "source": [
        "#Checking for null values"
      ],
      "metadata": {
        "id": "euMgx-e12pgd"
      }
    },
    {
      "cell_type": "code",
      "source": [
        "df.isnull().sum()"
      ],
      "metadata": {
        "colab": {
          "base_uri": "https://localhost:8080/"
        },
        "id": "GDEOJVUsR4ff",
        "outputId": "ee44969a-83e3-4cb4-efc5-ae986efa8670"
      },
      "execution_count": 8,
      "outputs": [
        {
          "output_type": "execute_result",
          "data": {
            "text/plain": [
              "Age            0\n",
              "Sex            0\n",
              "BP             0\n",
              "Cholesterol    0\n",
              "Na_to_K        0\n",
              "Drug           0\n",
              "dtype: int64"
            ]
          },
          "metadata": {},
          "execution_count": 8
        }
      ]
    },
    {
      "cell_type": "markdown",
      "source": [
        "#Printing the first five rows of the Dataset"
      ],
      "metadata": {
        "id": "gQsYjHLf2u5D"
      }
    },
    {
      "cell_type": "code",
      "source": [
        "print(df.head())"
      ],
      "metadata": {
        "colab": {
          "base_uri": "https://localhost:8080/"
        },
        "id": "ePTAVoe5iHTL",
        "outputId": "6e793f12-90d0-4b9e-bf19-43304f9b7abd"
      },
      "execution_count": 9,
      "outputs": [
        {
          "output_type": "stream",
          "name": "stdout",
          "text": [
            "   Age Sex      BP Cholesterol  Na_to_K   Drug\n",
            "0   23   F    HIGH        HIGH   25.355  DrugY\n",
            "1   47   M     LOW        HIGH   13.093  drugC\n",
            "2   47   M     LOW        HIGH   10.114  drugC\n",
            "3   28   F  NORMAL        HIGH    7.798  drugX\n",
            "4   61   F     LOW        HIGH   18.043  DrugY\n"
          ]
        }
      ]
    },
    {
      "cell_type": "markdown",
      "source": [
        "#Printing the last five rows of the Dataset"
      ],
      "metadata": {
        "id": "RGFimp4C241q"
      }
    },
    {
      "cell_type": "code",
      "source": [
        "print(df.tail())"
      ],
      "metadata": {
        "colab": {
          "base_uri": "https://localhost:8080/"
        },
        "id": "y9-wxE2dZuF9",
        "outputId": "34d0bb54-8790-494e-9f35-9b091fb63f59"
      },
      "execution_count": 10,
      "outputs": [
        {
          "output_type": "stream",
          "name": "stdout",
          "text": [
            "     Age Sex      BP Cholesterol  Na_to_K   Drug\n",
            "195   56   F     LOW        HIGH   11.567  drugC\n",
            "196   16   M     LOW        HIGH   12.006  drugC\n",
            "197   52   M  NORMAL        HIGH    9.894  drugX\n",
            "198   23   M  NORMAL      NORMAL   14.020  drugX\n",
            "199   40   F     LOW      NORMAL   11.349  drugX\n"
          ]
        }
      ]
    },
    {
      "cell_type": "markdown",
      "source": [
        "#Allocating values to X and Y from the dataset"
      ],
      "metadata": {
        "id": "gJYrlFGF3FhX"
      }
    },
    {
      "cell_type": "code",
      "source": [
        "x=df.drop(columns=['Drug'])\n",
        "y=df.Drug"
      ],
      "metadata": {
        "id": "uUMjoxSjiKUK"
      },
      "execution_count": 11,
      "outputs": []
    },
    {
      "cell_type": "markdown",
      "source": [
        "#Column Transformation for Data Preparation (mixed data)"
      ],
      "metadata": {
        "id": "qeTPA3Te3KZh"
      }
    },
    {
      "cell_type": "code",
      "source": [
        "nomi_col=[1]\n",
        "ordi_col=[2,3]"
      ],
      "metadata": {
        "id": "FgLXwNIIbFjv"
      },
      "execution_count": 13,
      "outputs": []
    },
    {
      "cell_type": "code",
      "source": [
        "from sklearn.preprocessing import OneHotEncoder\n",
        "from sklearn.preprocessing import OrdinalEncoder\n",
        "from sklearn.compose import make_column_transformer\n",
        "from sklearn import set_config\n",
        "from sklearn.pipeline import make_pipeline\n",
        "trans=make_column_transformer((OneHotEncoder(),nomi_col),(OrdinalEncoder(),ordi_col),remainder='passthrough')\n",
        "set_config(display='diagram')"
      ],
      "metadata": {
        "id": "3bR-wc_0bO-t"
      },
      "execution_count": 14,
      "outputs": []
    },
    {
      "cell_type": "markdown",
      "source": [
        "#Splitting the train and test values for the model"
      ],
      "metadata": {
        "id": "qt_2Oaq13MRv"
      }
    },
    {
      "cell_type": "code",
      "source": [
        "from sklearn.model_selection import train_test_split\n",
        "x_train,x_test,y_train,y_test=train_test_split(x,y,test_size=0.2, random_state=0)"
      ],
      "metadata": {
        "id": "_jBc-n8Gw6KJ"
      },
      "execution_count": 15,
      "outputs": []
    },
    {
      "cell_type": "markdown",
      "source": [
        "#**Implementing various Classification Algorithms**"
      ],
      "metadata": {
        "id": "lmbrS2eD3W2s"
      }
    },
    {
      "cell_type": "markdown",
      "source": [
        "#Logistic Regression"
      ],
      "metadata": {
        "id": "_h0DX7Alx_FV"
      }
    },
    {
      "cell_type": "code",
      "source": [
        "from sklearn.linear_model import LogisticRegression\n",
        "lr=LogisticRegression(solver='liblinear',multi_class='ovr')"
      ],
      "metadata": {
        "id": "I7hSgfPoxK6W"
      },
      "execution_count": 16,
      "outputs": []
    },
    {
      "cell_type": "code",
      "source": [
        "pipline= make_pipeline(trans,lr)\n",
        "pipline.fit(x_train,y_train)"
      ],
      "metadata": {
        "colab": {
          "base_uri": "https://localhost:8080/",
          "height": 192
        },
        "id": "xo6tleobxcm4",
        "outputId": "17d85718-9a8f-4aff-cae8-d5927ba02c05"
      },
      "execution_count": 17,
      "outputs": [
        {
          "output_type": "execute_result",
          "data": {
            "text/plain": [
              "Pipeline(steps=[('columntransformer',\n",
              "                 ColumnTransformer(remainder='passthrough',\n",
              "                                   transformers=[('onehotencoder',\n",
              "                                                  OneHotEncoder(), [1]),\n",
              "                                                 ('ordinalencoder',\n",
              "                                                  OrdinalEncoder(), [2, 3])])),\n",
              "                ('logisticregression',\n",
              "                 LogisticRegression(multi_class='ovr', solver='liblinear'))])"
            ],
            "text/html": [
              "<style>#sk-5f7a1455-f249-4c90-9494-aa87aba161ab {color: black;background-color: white;}#sk-5f7a1455-f249-4c90-9494-aa87aba161ab pre{padding: 0;}#sk-5f7a1455-f249-4c90-9494-aa87aba161ab div.sk-toggleable {background-color: white;}#sk-5f7a1455-f249-4c90-9494-aa87aba161ab label.sk-toggleable__label {cursor: pointer;display: block;width: 100%;margin-bottom: 0;padding: 0.3em;box-sizing: border-box;text-align: center;}#sk-5f7a1455-f249-4c90-9494-aa87aba161ab label.sk-toggleable__label-arrow:before {content: \"▸\";float: left;margin-right: 0.25em;color: #696969;}#sk-5f7a1455-f249-4c90-9494-aa87aba161ab label.sk-toggleable__label-arrow:hover:before {color: black;}#sk-5f7a1455-f249-4c90-9494-aa87aba161ab div.sk-estimator:hover label.sk-toggleable__label-arrow:before {color: black;}#sk-5f7a1455-f249-4c90-9494-aa87aba161ab div.sk-toggleable__content {max-height: 0;max-width: 0;overflow: hidden;text-align: left;background-color: #f0f8ff;}#sk-5f7a1455-f249-4c90-9494-aa87aba161ab div.sk-toggleable__content pre {margin: 0.2em;color: black;border-radius: 0.25em;background-color: #f0f8ff;}#sk-5f7a1455-f249-4c90-9494-aa87aba161ab input.sk-toggleable__control:checked~div.sk-toggleable__content {max-height: 200px;max-width: 100%;overflow: auto;}#sk-5f7a1455-f249-4c90-9494-aa87aba161ab input.sk-toggleable__control:checked~label.sk-toggleable__label-arrow:before {content: \"▾\";}#sk-5f7a1455-f249-4c90-9494-aa87aba161ab div.sk-estimator input.sk-toggleable__control:checked~label.sk-toggleable__label {background-color: #d4ebff;}#sk-5f7a1455-f249-4c90-9494-aa87aba161ab div.sk-label input.sk-toggleable__control:checked~label.sk-toggleable__label {background-color: #d4ebff;}#sk-5f7a1455-f249-4c90-9494-aa87aba161ab input.sk-hidden--visually {border: 0;clip: rect(1px 1px 1px 1px);clip: rect(1px, 1px, 1px, 1px);height: 1px;margin: -1px;overflow: hidden;padding: 0;position: absolute;width: 1px;}#sk-5f7a1455-f249-4c90-9494-aa87aba161ab div.sk-estimator {font-family: monospace;background-color: #f0f8ff;border: 1px dotted black;border-radius: 0.25em;box-sizing: border-box;margin-bottom: 0.5em;}#sk-5f7a1455-f249-4c90-9494-aa87aba161ab div.sk-estimator:hover {background-color: #d4ebff;}#sk-5f7a1455-f249-4c90-9494-aa87aba161ab div.sk-parallel-item::after {content: \"\";width: 100%;border-bottom: 1px solid gray;flex-grow: 1;}#sk-5f7a1455-f249-4c90-9494-aa87aba161ab div.sk-label:hover label.sk-toggleable__label {background-color: #d4ebff;}#sk-5f7a1455-f249-4c90-9494-aa87aba161ab div.sk-serial::before {content: \"\";position: absolute;border-left: 1px solid gray;box-sizing: border-box;top: 2em;bottom: 0;left: 50%;}#sk-5f7a1455-f249-4c90-9494-aa87aba161ab div.sk-serial {display: flex;flex-direction: column;align-items: center;background-color: white;padding-right: 0.2em;padding-left: 0.2em;}#sk-5f7a1455-f249-4c90-9494-aa87aba161ab div.sk-item {z-index: 1;}#sk-5f7a1455-f249-4c90-9494-aa87aba161ab div.sk-parallel {display: flex;align-items: stretch;justify-content: center;background-color: white;}#sk-5f7a1455-f249-4c90-9494-aa87aba161ab div.sk-parallel::before {content: \"\";position: absolute;border-left: 1px solid gray;box-sizing: border-box;top: 2em;bottom: 0;left: 50%;}#sk-5f7a1455-f249-4c90-9494-aa87aba161ab div.sk-parallel-item {display: flex;flex-direction: column;position: relative;background-color: white;}#sk-5f7a1455-f249-4c90-9494-aa87aba161ab div.sk-parallel-item:first-child::after {align-self: flex-end;width: 50%;}#sk-5f7a1455-f249-4c90-9494-aa87aba161ab div.sk-parallel-item:last-child::after {align-self: flex-start;width: 50%;}#sk-5f7a1455-f249-4c90-9494-aa87aba161ab div.sk-parallel-item:only-child::after {width: 0;}#sk-5f7a1455-f249-4c90-9494-aa87aba161ab div.sk-dashed-wrapped {border: 1px dashed gray;margin: 0 0.4em 0.5em 0.4em;box-sizing: border-box;padding-bottom: 0.4em;background-color: white;position: relative;}#sk-5f7a1455-f249-4c90-9494-aa87aba161ab div.sk-label label {font-family: monospace;font-weight: bold;background-color: white;display: inline-block;line-height: 1.2em;}#sk-5f7a1455-f249-4c90-9494-aa87aba161ab div.sk-label-container {position: relative;z-index: 2;text-align: center;}#sk-5f7a1455-f249-4c90-9494-aa87aba161ab div.sk-container {/* jupyter's `normalize.less` sets `[hidden] { display: none; }` but bootstrap.min.css set `[hidden] { display: none !important; }` so we also need the `!important` here to be able to override the default hidden behavior on the sphinx rendered scikit-learn.org. See: https://github.com/scikit-learn/scikit-learn/issues/21755 */display: inline-block !important;position: relative;}#sk-5f7a1455-f249-4c90-9494-aa87aba161ab div.sk-text-repr-fallback {display: none;}</style><div id=\"sk-5f7a1455-f249-4c90-9494-aa87aba161ab\" class=\"sk-top-container\"><div class=\"sk-text-repr-fallback\"><pre>Pipeline(steps=[(&#x27;columntransformer&#x27;,\n",
              "                 ColumnTransformer(remainder=&#x27;passthrough&#x27;,\n",
              "                                   transformers=[(&#x27;onehotencoder&#x27;,\n",
              "                                                  OneHotEncoder(), [1]),\n",
              "                                                 (&#x27;ordinalencoder&#x27;,\n",
              "                                                  OrdinalEncoder(), [2, 3])])),\n",
              "                (&#x27;logisticregression&#x27;,\n",
              "                 LogisticRegression(multi_class=&#x27;ovr&#x27;, solver=&#x27;liblinear&#x27;))])</pre><b>Please rerun this cell to show the HTML repr or trust the notebook.</b></div><div class=\"sk-container\" hidden><div class=\"sk-item sk-dashed-wrapped\"><div class=\"sk-label-container\"><div class=\"sk-label sk-toggleable\"><input class=\"sk-toggleable__control sk-hidden--visually\" id=\"3e895516-f994-408a-b304-92b90692e949\" type=\"checkbox\" ><label for=\"3e895516-f994-408a-b304-92b90692e949\" class=\"sk-toggleable__label sk-toggleable__label-arrow\">Pipeline</label><div class=\"sk-toggleable__content\"><pre>Pipeline(steps=[(&#x27;columntransformer&#x27;,\n",
              "                 ColumnTransformer(remainder=&#x27;passthrough&#x27;,\n",
              "                                   transformers=[(&#x27;onehotencoder&#x27;,\n",
              "                                                  OneHotEncoder(), [1]),\n",
              "                                                 (&#x27;ordinalencoder&#x27;,\n",
              "                                                  OrdinalEncoder(), [2, 3])])),\n",
              "                (&#x27;logisticregression&#x27;,\n",
              "                 LogisticRegression(multi_class=&#x27;ovr&#x27;, solver=&#x27;liblinear&#x27;))])</pre></div></div></div><div class=\"sk-serial\"><div class=\"sk-item sk-dashed-wrapped\"><div class=\"sk-label-container\"><div class=\"sk-label sk-toggleable\"><input class=\"sk-toggleable__control sk-hidden--visually\" id=\"94b966bc-6b3d-48b8-a6bc-1cab9c878b4e\" type=\"checkbox\" ><label for=\"94b966bc-6b3d-48b8-a6bc-1cab9c878b4e\" class=\"sk-toggleable__label sk-toggleable__label-arrow\">columntransformer: ColumnTransformer</label><div class=\"sk-toggleable__content\"><pre>ColumnTransformer(remainder=&#x27;passthrough&#x27;,\n",
              "                  transformers=[(&#x27;onehotencoder&#x27;, OneHotEncoder(), [1]),\n",
              "                                (&#x27;ordinalencoder&#x27;, OrdinalEncoder(), [2, 3])])</pre></div></div></div><div class=\"sk-parallel\"><div class=\"sk-parallel-item\"><div class=\"sk-item\"><div class=\"sk-label-container\"><div class=\"sk-label sk-toggleable\"><input class=\"sk-toggleable__control sk-hidden--visually\" id=\"5754be8f-54d7-4e2d-acc6-13984c0c0f5e\" type=\"checkbox\" ><label for=\"5754be8f-54d7-4e2d-acc6-13984c0c0f5e\" class=\"sk-toggleable__label sk-toggleable__label-arrow\">onehotencoder</label><div class=\"sk-toggleable__content\"><pre>[1]</pre></div></div></div><div class=\"sk-serial\"><div class=\"sk-item\"><div class=\"sk-estimator sk-toggleable\"><input class=\"sk-toggleable__control sk-hidden--visually\" id=\"c38f80fd-b64e-4641-9e46-8a4dd09a32d9\" type=\"checkbox\" ><label for=\"c38f80fd-b64e-4641-9e46-8a4dd09a32d9\" class=\"sk-toggleable__label sk-toggleable__label-arrow\">OneHotEncoder</label><div class=\"sk-toggleable__content\"><pre>OneHotEncoder()</pre></div></div></div></div></div></div><div class=\"sk-parallel-item\"><div class=\"sk-item\"><div class=\"sk-label-container\"><div class=\"sk-label sk-toggleable\"><input class=\"sk-toggleable__control sk-hidden--visually\" id=\"04f174f1-ccce-420e-b7f7-9ac35cb4e0f6\" type=\"checkbox\" ><label for=\"04f174f1-ccce-420e-b7f7-9ac35cb4e0f6\" class=\"sk-toggleable__label sk-toggleable__label-arrow\">ordinalencoder</label><div class=\"sk-toggleable__content\"><pre>[2, 3]</pre></div></div></div><div class=\"sk-serial\"><div class=\"sk-item\"><div class=\"sk-estimator sk-toggleable\"><input class=\"sk-toggleable__control sk-hidden--visually\" id=\"c56abfff-7626-4187-9314-924590126276\" type=\"checkbox\" ><label for=\"c56abfff-7626-4187-9314-924590126276\" class=\"sk-toggleable__label sk-toggleable__label-arrow\">OrdinalEncoder</label><div class=\"sk-toggleable__content\"><pre>OrdinalEncoder()</pre></div></div></div></div></div></div><div class=\"sk-parallel-item\"><div class=\"sk-item\"><div class=\"sk-label-container\"><div class=\"sk-label sk-toggleable\"><input class=\"sk-toggleable__control sk-hidden--visually\" id=\"59c4c78b-88ca-4092-b19c-330f2c931085\" type=\"checkbox\" ><label for=\"59c4c78b-88ca-4092-b19c-330f2c931085\" class=\"sk-toggleable__label sk-toggleable__label-arrow\">remainder</label><div class=\"sk-toggleable__content\"><pre>[&#x27;Age&#x27;, &#x27;Na_to_K&#x27;]</pre></div></div></div><div class=\"sk-serial\"><div class=\"sk-item\"><div class=\"sk-estimator sk-toggleable\"><input class=\"sk-toggleable__control sk-hidden--visually\" id=\"04e87438-2805-43f7-ab10-8fd02449e415\" type=\"checkbox\" ><label for=\"04e87438-2805-43f7-ab10-8fd02449e415\" class=\"sk-toggleable__label sk-toggleable__label-arrow\">passthrough</label><div class=\"sk-toggleable__content\"><pre>passthrough</pre></div></div></div></div></div></div></div></div><div class=\"sk-item\"><div class=\"sk-estimator sk-toggleable\"><input class=\"sk-toggleable__control sk-hidden--visually\" id=\"17f28058-b5e8-4e3f-8b70-3cf5a35a4e37\" type=\"checkbox\" ><label for=\"17f28058-b5e8-4e3f-8b70-3cf5a35a4e37\" class=\"sk-toggleable__label sk-toggleable__label-arrow\">LogisticRegression</label><div class=\"sk-toggleable__content\"><pre>LogisticRegression(multi_class=&#x27;ovr&#x27;, solver=&#x27;liblinear&#x27;)</pre></div></div></div></div></div></div></div>"
            ]
          },
          "metadata": {},
          "execution_count": 17
        }
      ]
    },
    {
      "cell_type": "code",
      "source": [
        "y_pred_test= pipline.predict(x_test)\n",
        "y_pred_train= pipline.predict(x_train)"
      ],
      "metadata": {
        "id": "zmKlShhaxiZc"
      },
      "execution_count": 18,
      "outputs": []
    },
    {
      "cell_type": "code",
      "source": [
        "print(\"Training accuracy:\")\n",
        "print( accuracy_score(y_train, y_pred_train)*100)"
      ],
      "metadata": {
        "id": "yR6MRVG_xw3W",
        "colab": {
          "base_uri": "https://localhost:8080/"
        },
        "outputId": "5680e2e9-d4e7-4874-fabb-abf7d567b847"
      },
      "execution_count": 19,
      "outputs": [
        {
          "output_type": "stream",
          "name": "stdout",
          "text": [
            "Training accuracy:\n",
            "85.0\n"
          ]
        }
      ]
    },
    {
      "cell_type": "code",
      "source": [
        "print(\"Testing accuracy:\")\n",
        "print( accuracy_score(y_test, y_pred_test)*100)"
      ],
      "metadata": {
        "id": "qL6aR5cExzuP",
        "colab": {
          "base_uri": "https://localhost:8080/"
        },
        "outputId": "32a41f5e-ea59-40df-956a-f314616be295"
      },
      "execution_count": 20,
      "outputs": [
        {
          "output_type": "stream",
          "name": "stdout",
          "text": [
            "Testing accuracy:\n",
            "82.5\n"
          ]
        }
      ]
    },
    {
      "cell_type": "markdown",
      "source": [
        "#Random Forest"
      ],
      "metadata": {
        "id": "wY_fof_b3vcx"
      }
    },
    {
      "cell_type": "code",
      "source": [
        "from sklearn.ensemble import RandomForestClassifier"
      ],
      "metadata": {
        "id": "4TRZ7bd-x4_v"
      },
      "execution_count": 21,
      "outputs": []
    },
    {
      "cell_type": "code",
      "source": [
        "clf = RandomForestClassifier(max_depth=4, random_state=0)\n",
        "pipline= make_pipeline(trans,clf)\n",
        "pipline.fit(x_train,y_train)"
      ],
      "metadata": {
        "id": "KWflni3c39aK",
        "colab": {
          "base_uri": "https://localhost:8080/",
          "height": 192
        },
        "outputId": "5c53f951-0eb0-4004-cf4c-25d70f394bb8"
      },
      "execution_count": 22,
      "outputs": [
        {
          "output_type": "execute_result",
          "data": {
            "text/plain": [
              "Pipeline(steps=[('columntransformer',\n",
              "                 ColumnTransformer(remainder='passthrough',\n",
              "                                   transformers=[('onehotencoder',\n",
              "                                                  OneHotEncoder(), [1]),\n",
              "                                                 ('ordinalencoder',\n",
              "                                                  OrdinalEncoder(), [2, 3])])),\n",
              "                ('randomforestclassifier',\n",
              "                 RandomForestClassifier(max_depth=4, random_state=0))])"
            ],
            "text/html": [
              "<style>#sk-ba47a6cb-05e4-49eb-86fe-9439161be3c8 {color: black;background-color: white;}#sk-ba47a6cb-05e4-49eb-86fe-9439161be3c8 pre{padding: 0;}#sk-ba47a6cb-05e4-49eb-86fe-9439161be3c8 div.sk-toggleable {background-color: white;}#sk-ba47a6cb-05e4-49eb-86fe-9439161be3c8 label.sk-toggleable__label {cursor: pointer;display: block;width: 100%;margin-bottom: 0;padding: 0.3em;box-sizing: border-box;text-align: center;}#sk-ba47a6cb-05e4-49eb-86fe-9439161be3c8 label.sk-toggleable__label-arrow:before {content: \"▸\";float: left;margin-right: 0.25em;color: #696969;}#sk-ba47a6cb-05e4-49eb-86fe-9439161be3c8 label.sk-toggleable__label-arrow:hover:before {color: black;}#sk-ba47a6cb-05e4-49eb-86fe-9439161be3c8 div.sk-estimator:hover label.sk-toggleable__label-arrow:before {color: black;}#sk-ba47a6cb-05e4-49eb-86fe-9439161be3c8 div.sk-toggleable__content {max-height: 0;max-width: 0;overflow: hidden;text-align: left;background-color: #f0f8ff;}#sk-ba47a6cb-05e4-49eb-86fe-9439161be3c8 div.sk-toggleable__content pre {margin: 0.2em;color: black;border-radius: 0.25em;background-color: #f0f8ff;}#sk-ba47a6cb-05e4-49eb-86fe-9439161be3c8 input.sk-toggleable__control:checked~div.sk-toggleable__content {max-height: 200px;max-width: 100%;overflow: auto;}#sk-ba47a6cb-05e4-49eb-86fe-9439161be3c8 input.sk-toggleable__control:checked~label.sk-toggleable__label-arrow:before {content: \"▾\";}#sk-ba47a6cb-05e4-49eb-86fe-9439161be3c8 div.sk-estimator input.sk-toggleable__control:checked~label.sk-toggleable__label {background-color: #d4ebff;}#sk-ba47a6cb-05e4-49eb-86fe-9439161be3c8 div.sk-label input.sk-toggleable__control:checked~label.sk-toggleable__label {background-color: #d4ebff;}#sk-ba47a6cb-05e4-49eb-86fe-9439161be3c8 input.sk-hidden--visually {border: 0;clip: rect(1px 1px 1px 1px);clip: rect(1px, 1px, 1px, 1px);height: 1px;margin: -1px;overflow: hidden;padding: 0;position: absolute;width: 1px;}#sk-ba47a6cb-05e4-49eb-86fe-9439161be3c8 div.sk-estimator {font-family: monospace;background-color: #f0f8ff;border: 1px dotted black;border-radius: 0.25em;box-sizing: border-box;margin-bottom: 0.5em;}#sk-ba47a6cb-05e4-49eb-86fe-9439161be3c8 div.sk-estimator:hover {background-color: #d4ebff;}#sk-ba47a6cb-05e4-49eb-86fe-9439161be3c8 div.sk-parallel-item::after {content: \"\";width: 100%;border-bottom: 1px solid gray;flex-grow: 1;}#sk-ba47a6cb-05e4-49eb-86fe-9439161be3c8 div.sk-label:hover label.sk-toggleable__label {background-color: #d4ebff;}#sk-ba47a6cb-05e4-49eb-86fe-9439161be3c8 div.sk-serial::before {content: \"\";position: absolute;border-left: 1px solid gray;box-sizing: border-box;top: 2em;bottom: 0;left: 50%;}#sk-ba47a6cb-05e4-49eb-86fe-9439161be3c8 div.sk-serial {display: flex;flex-direction: column;align-items: center;background-color: white;padding-right: 0.2em;padding-left: 0.2em;}#sk-ba47a6cb-05e4-49eb-86fe-9439161be3c8 div.sk-item {z-index: 1;}#sk-ba47a6cb-05e4-49eb-86fe-9439161be3c8 div.sk-parallel {display: flex;align-items: stretch;justify-content: center;background-color: white;}#sk-ba47a6cb-05e4-49eb-86fe-9439161be3c8 div.sk-parallel::before {content: \"\";position: absolute;border-left: 1px solid gray;box-sizing: border-box;top: 2em;bottom: 0;left: 50%;}#sk-ba47a6cb-05e4-49eb-86fe-9439161be3c8 div.sk-parallel-item {display: flex;flex-direction: column;position: relative;background-color: white;}#sk-ba47a6cb-05e4-49eb-86fe-9439161be3c8 div.sk-parallel-item:first-child::after {align-self: flex-end;width: 50%;}#sk-ba47a6cb-05e4-49eb-86fe-9439161be3c8 div.sk-parallel-item:last-child::after {align-self: flex-start;width: 50%;}#sk-ba47a6cb-05e4-49eb-86fe-9439161be3c8 div.sk-parallel-item:only-child::after {width: 0;}#sk-ba47a6cb-05e4-49eb-86fe-9439161be3c8 div.sk-dashed-wrapped {border: 1px dashed gray;margin: 0 0.4em 0.5em 0.4em;box-sizing: border-box;padding-bottom: 0.4em;background-color: white;position: relative;}#sk-ba47a6cb-05e4-49eb-86fe-9439161be3c8 div.sk-label label {font-family: monospace;font-weight: bold;background-color: white;display: inline-block;line-height: 1.2em;}#sk-ba47a6cb-05e4-49eb-86fe-9439161be3c8 div.sk-label-container {position: relative;z-index: 2;text-align: center;}#sk-ba47a6cb-05e4-49eb-86fe-9439161be3c8 div.sk-container {/* jupyter's `normalize.less` sets `[hidden] { display: none; }` but bootstrap.min.css set `[hidden] { display: none !important; }` so we also need the `!important` here to be able to override the default hidden behavior on the sphinx rendered scikit-learn.org. See: https://github.com/scikit-learn/scikit-learn/issues/21755 */display: inline-block !important;position: relative;}#sk-ba47a6cb-05e4-49eb-86fe-9439161be3c8 div.sk-text-repr-fallback {display: none;}</style><div id=\"sk-ba47a6cb-05e4-49eb-86fe-9439161be3c8\" class=\"sk-top-container\"><div class=\"sk-text-repr-fallback\"><pre>Pipeline(steps=[(&#x27;columntransformer&#x27;,\n",
              "                 ColumnTransformer(remainder=&#x27;passthrough&#x27;,\n",
              "                                   transformers=[(&#x27;onehotencoder&#x27;,\n",
              "                                                  OneHotEncoder(), [1]),\n",
              "                                                 (&#x27;ordinalencoder&#x27;,\n",
              "                                                  OrdinalEncoder(), [2, 3])])),\n",
              "                (&#x27;randomforestclassifier&#x27;,\n",
              "                 RandomForestClassifier(max_depth=4, random_state=0))])</pre><b>Please rerun this cell to show the HTML repr or trust the notebook.</b></div><div class=\"sk-container\" hidden><div class=\"sk-item sk-dashed-wrapped\"><div class=\"sk-label-container\"><div class=\"sk-label sk-toggleable\"><input class=\"sk-toggleable__control sk-hidden--visually\" id=\"712f0cb7-efb9-4538-9d57-b931253b852c\" type=\"checkbox\" ><label for=\"712f0cb7-efb9-4538-9d57-b931253b852c\" class=\"sk-toggleable__label sk-toggleable__label-arrow\">Pipeline</label><div class=\"sk-toggleable__content\"><pre>Pipeline(steps=[(&#x27;columntransformer&#x27;,\n",
              "                 ColumnTransformer(remainder=&#x27;passthrough&#x27;,\n",
              "                                   transformers=[(&#x27;onehotencoder&#x27;,\n",
              "                                                  OneHotEncoder(), [1]),\n",
              "                                                 (&#x27;ordinalencoder&#x27;,\n",
              "                                                  OrdinalEncoder(), [2, 3])])),\n",
              "                (&#x27;randomforestclassifier&#x27;,\n",
              "                 RandomForestClassifier(max_depth=4, random_state=0))])</pre></div></div></div><div class=\"sk-serial\"><div class=\"sk-item sk-dashed-wrapped\"><div class=\"sk-label-container\"><div class=\"sk-label sk-toggleable\"><input class=\"sk-toggleable__control sk-hidden--visually\" id=\"91671122-dc4a-4e51-86bc-de1f3dc4c17d\" type=\"checkbox\" ><label for=\"91671122-dc4a-4e51-86bc-de1f3dc4c17d\" class=\"sk-toggleable__label sk-toggleable__label-arrow\">columntransformer: ColumnTransformer</label><div class=\"sk-toggleable__content\"><pre>ColumnTransformer(remainder=&#x27;passthrough&#x27;,\n",
              "                  transformers=[(&#x27;onehotencoder&#x27;, OneHotEncoder(), [1]),\n",
              "                                (&#x27;ordinalencoder&#x27;, OrdinalEncoder(), [2, 3])])</pre></div></div></div><div class=\"sk-parallel\"><div class=\"sk-parallel-item\"><div class=\"sk-item\"><div class=\"sk-label-container\"><div class=\"sk-label sk-toggleable\"><input class=\"sk-toggleable__control sk-hidden--visually\" id=\"e19579b5-ed35-4f5a-832f-33068b1b86e2\" type=\"checkbox\" ><label for=\"e19579b5-ed35-4f5a-832f-33068b1b86e2\" class=\"sk-toggleable__label sk-toggleable__label-arrow\">onehotencoder</label><div class=\"sk-toggleable__content\"><pre>[1]</pre></div></div></div><div class=\"sk-serial\"><div class=\"sk-item\"><div class=\"sk-estimator sk-toggleable\"><input class=\"sk-toggleable__control sk-hidden--visually\" id=\"6fc15125-1ccf-46ce-8db2-beb52192c70f\" type=\"checkbox\" ><label for=\"6fc15125-1ccf-46ce-8db2-beb52192c70f\" class=\"sk-toggleable__label sk-toggleable__label-arrow\">OneHotEncoder</label><div class=\"sk-toggleable__content\"><pre>OneHotEncoder()</pre></div></div></div></div></div></div><div class=\"sk-parallel-item\"><div class=\"sk-item\"><div class=\"sk-label-container\"><div class=\"sk-label sk-toggleable\"><input class=\"sk-toggleable__control sk-hidden--visually\" id=\"d419ddb0-f3e2-4cfa-ab52-3cc350443fe2\" type=\"checkbox\" ><label for=\"d419ddb0-f3e2-4cfa-ab52-3cc350443fe2\" class=\"sk-toggleable__label sk-toggleable__label-arrow\">ordinalencoder</label><div class=\"sk-toggleable__content\"><pre>[2, 3]</pre></div></div></div><div class=\"sk-serial\"><div class=\"sk-item\"><div class=\"sk-estimator sk-toggleable\"><input class=\"sk-toggleable__control sk-hidden--visually\" id=\"71cc43e8-5d7a-4b3c-a8cc-677db168a489\" type=\"checkbox\" ><label for=\"71cc43e8-5d7a-4b3c-a8cc-677db168a489\" class=\"sk-toggleable__label sk-toggleable__label-arrow\">OrdinalEncoder</label><div class=\"sk-toggleable__content\"><pre>OrdinalEncoder()</pre></div></div></div></div></div></div><div class=\"sk-parallel-item\"><div class=\"sk-item\"><div class=\"sk-label-container\"><div class=\"sk-label sk-toggleable\"><input class=\"sk-toggleable__control sk-hidden--visually\" id=\"182d6279-150f-4b60-9e29-ab7a0e2a3dd5\" type=\"checkbox\" ><label for=\"182d6279-150f-4b60-9e29-ab7a0e2a3dd5\" class=\"sk-toggleable__label sk-toggleable__label-arrow\">remainder</label><div class=\"sk-toggleable__content\"><pre>[&#x27;Age&#x27;, &#x27;Na_to_K&#x27;]</pre></div></div></div><div class=\"sk-serial\"><div class=\"sk-item\"><div class=\"sk-estimator sk-toggleable\"><input class=\"sk-toggleable__control sk-hidden--visually\" id=\"12d87e84-3b62-418e-a933-babc87390c5f\" type=\"checkbox\" ><label for=\"12d87e84-3b62-418e-a933-babc87390c5f\" class=\"sk-toggleable__label sk-toggleable__label-arrow\">passthrough</label><div class=\"sk-toggleable__content\"><pre>passthrough</pre></div></div></div></div></div></div></div></div><div class=\"sk-item\"><div class=\"sk-estimator sk-toggleable\"><input class=\"sk-toggleable__control sk-hidden--visually\" id=\"f75f78ae-cf63-4286-8ac6-65359596744a\" type=\"checkbox\" ><label for=\"f75f78ae-cf63-4286-8ac6-65359596744a\" class=\"sk-toggleable__label sk-toggleable__label-arrow\">RandomForestClassifier</label><div class=\"sk-toggleable__content\"><pre>RandomForestClassifier(max_depth=4, random_state=0)</pre></div></div></div></div></div></div></div>"
            ]
          },
          "metadata": {},
          "execution_count": 22
        }
      ]
    },
    {
      "cell_type": "code",
      "source": [
        "y_pred_test= pipline.predict(x_test)\n",
        "y_pred_train= pipline.predict(x_train)"
      ],
      "metadata": {
        "id": "LSp4xsoL4EJm"
      },
      "execution_count": 23,
      "outputs": []
    },
    {
      "cell_type": "code",
      "source": [
        "print(\"Training accuracy:\")\n",
        "print( accuracy_score(y_train, y_pred_train)*100)"
      ],
      "metadata": {
        "id": "DmCIzz5K4Hv6",
        "colab": {
          "base_uri": "https://localhost:8080/"
        },
        "outputId": "a0d797c2-dfb3-4fd7-ec19-600777ccb073"
      },
      "execution_count": 24,
      "outputs": [
        {
          "output_type": "stream",
          "name": "stdout",
          "text": [
            "Training accuracy:\n",
            "100.0\n"
          ]
        }
      ]
    },
    {
      "cell_type": "code",
      "source": [
        "print(\"Testing accuracy:\")\n",
        "print( accuracy_score(y_test, y_pred_test)*100)"
      ],
      "metadata": {
        "id": "ZMvm-wKl4NRA",
        "colab": {
          "base_uri": "https://localhost:8080/"
        },
        "outputId": "6d2ccbf0-508d-40c2-9352-cbdc38089103"
      },
      "execution_count": 25,
      "outputs": [
        {
          "output_type": "stream",
          "name": "stdout",
          "text": [
            "Testing accuracy:\n",
            "100.0\n"
          ]
        }
      ]
    },
    {
      "cell_type": "markdown",
      "source": [
        "#K Nearest Neighbour (KNN) Classifier"
      ],
      "metadata": {
        "id": "r9Ks1c2A6gpB"
      }
    },
    {
      "cell_type": "code",
      "source": [
        "from sklearn.neighbors import KNeighborsClassifier"
      ],
      "metadata": {
        "id": "0t-QbFhI6T2d"
      },
      "execution_count": 41,
      "outputs": []
    },
    {
      "cell_type": "code",
      "source": [
        "knn = KNeighborsClassifier(n_neighbors=5)\n",
        "pipline= make_pipeline(trans,knn)\n",
        "pipline.fit(x_train,y_train)"
      ],
      "metadata": {
        "id": "l0BNDNlx68oL",
        "colab": {
          "base_uri": "https://localhost:8080/",
          "height": 192
        },
        "outputId": "45246727-4273-4c99-ad6a-74fc3013c2a6"
      },
      "execution_count": 42,
      "outputs": [
        {
          "output_type": "execute_result",
          "data": {
            "text/plain": [
              "Pipeline(steps=[('columntransformer',\n",
              "                 ColumnTransformer(remainder='passthrough',\n",
              "                                   transformers=[('onehotencoder',\n",
              "                                                  OneHotEncoder(), [1]),\n",
              "                                                 ('ordinalencoder',\n",
              "                                                  OrdinalEncoder(), [2, 3])])),\n",
              "                ('kneighborsclassifier', KNeighborsClassifier())])"
            ],
            "text/html": [
              "<style>#sk-ccecd3a5-06f8-475b-a41e-7960a2a59171 {color: black;background-color: white;}#sk-ccecd3a5-06f8-475b-a41e-7960a2a59171 pre{padding: 0;}#sk-ccecd3a5-06f8-475b-a41e-7960a2a59171 div.sk-toggleable {background-color: white;}#sk-ccecd3a5-06f8-475b-a41e-7960a2a59171 label.sk-toggleable__label {cursor: pointer;display: block;width: 100%;margin-bottom: 0;padding: 0.3em;box-sizing: border-box;text-align: center;}#sk-ccecd3a5-06f8-475b-a41e-7960a2a59171 label.sk-toggleable__label-arrow:before {content: \"▸\";float: left;margin-right: 0.25em;color: #696969;}#sk-ccecd3a5-06f8-475b-a41e-7960a2a59171 label.sk-toggleable__label-arrow:hover:before {color: black;}#sk-ccecd3a5-06f8-475b-a41e-7960a2a59171 div.sk-estimator:hover label.sk-toggleable__label-arrow:before {color: black;}#sk-ccecd3a5-06f8-475b-a41e-7960a2a59171 div.sk-toggleable__content {max-height: 0;max-width: 0;overflow: hidden;text-align: left;background-color: #f0f8ff;}#sk-ccecd3a5-06f8-475b-a41e-7960a2a59171 div.sk-toggleable__content pre {margin: 0.2em;color: black;border-radius: 0.25em;background-color: #f0f8ff;}#sk-ccecd3a5-06f8-475b-a41e-7960a2a59171 input.sk-toggleable__control:checked~div.sk-toggleable__content {max-height: 200px;max-width: 100%;overflow: auto;}#sk-ccecd3a5-06f8-475b-a41e-7960a2a59171 input.sk-toggleable__control:checked~label.sk-toggleable__label-arrow:before {content: \"▾\";}#sk-ccecd3a5-06f8-475b-a41e-7960a2a59171 div.sk-estimator input.sk-toggleable__control:checked~label.sk-toggleable__label {background-color: #d4ebff;}#sk-ccecd3a5-06f8-475b-a41e-7960a2a59171 div.sk-label input.sk-toggleable__control:checked~label.sk-toggleable__label {background-color: #d4ebff;}#sk-ccecd3a5-06f8-475b-a41e-7960a2a59171 input.sk-hidden--visually {border: 0;clip: rect(1px 1px 1px 1px);clip: rect(1px, 1px, 1px, 1px);height: 1px;margin: -1px;overflow: hidden;padding: 0;position: absolute;width: 1px;}#sk-ccecd3a5-06f8-475b-a41e-7960a2a59171 div.sk-estimator {font-family: monospace;background-color: #f0f8ff;border: 1px dotted black;border-radius: 0.25em;box-sizing: border-box;margin-bottom: 0.5em;}#sk-ccecd3a5-06f8-475b-a41e-7960a2a59171 div.sk-estimator:hover {background-color: #d4ebff;}#sk-ccecd3a5-06f8-475b-a41e-7960a2a59171 div.sk-parallel-item::after {content: \"\";width: 100%;border-bottom: 1px solid gray;flex-grow: 1;}#sk-ccecd3a5-06f8-475b-a41e-7960a2a59171 div.sk-label:hover label.sk-toggleable__label {background-color: #d4ebff;}#sk-ccecd3a5-06f8-475b-a41e-7960a2a59171 div.sk-serial::before {content: \"\";position: absolute;border-left: 1px solid gray;box-sizing: border-box;top: 2em;bottom: 0;left: 50%;}#sk-ccecd3a5-06f8-475b-a41e-7960a2a59171 div.sk-serial {display: flex;flex-direction: column;align-items: center;background-color: white;padding-right: 0.2em;padding-left: 0.2em;}#sk-ccecd3a5-06f8-475b-a41e-7960a2a59171 div.sk-item {z-index: 1;}#sk-ccecd3a5-06f8-475b-a41e-7960a2a59171 div.sk-parallel {display: flex;align-items: stretch;justify-content: center;background-color: white;}#sk-ccecd3a5-06f8-475b-a41e-7960a2a59171 div.sk-parallel::before {content: \"\";position: absolute;border-left: 1px solid gray;box-sizing: border-box;top: 2em;bottom: 0;left: 50%;}#sk-ccecd3a5-06f8-475b-a41e-7960a2a59171 div.sk-parallel-item {display: flex;flex-direction: column;position: relative;background-color: white;}#sk-ccecd3a5-06f8-475b-a41e-7960a2a59171 div.sk-parallel-item:first-child::after {align-self: flex-end;width: 50%;}#sk-ccecd3a5-06f8-475b-a41e-7960a2a59171 div.sk-parallel-item:last-child::after {align-self: flex-start;width: 50%;}#sk-ccecd3a5-06f8-475b-a41e-7960a2a59171 div.sk-parallel-item:only-child::after {width: 0;}#sk-ccecd3a5-06f8-475b-a41e-7960a2a59171 div.sk-dashed-wrapped {border: 1px dashed gray;margin: 0 0.4em 0.5em 0.4em;box-sizing: border-box;padding-bottom: 0.4em;background-color: white;position: relative;}#sk-ccecd3a5-06f8-475b-a41e-7960a2a59171 div.sk-label label {font-family: monospace;font-weight: bold;background-color: white;display: inline-block;line-height: 1.2em;}#sk-ccecd3a5-06f8-475b-a41e-7960a2a59171 div.sk-label-container {position: relative;z-index: 2;text-align: center;}#sk-ccecd3a5-06f8-475b-a41e-7960a2a59171 div.sk-container {/* jupyter's `normalize.less` sets `[hidden] { display: none; }` but bootstrap.min.css set `[hidden] { display: none !important; }` so we also need the `!important` here to be able to override the default hidden behavior on the sphinx rendered scikit-learn.org. See: https://github.com/scikit-learn/scikit-learn/issues/21755 */display: inline-block !important;position: relative;}#sk-ccecd3a5-06f8-475b-a41e-7960a2a59171 div.sk-text-repr-fallback {display: none;}</style><div id=\"sk-ccecd3a5-06f8-475b-a41e-7960a2a59171\" class=\"sk-top-container\"><div class=\"sk-text-repr-fallback\"><pre>Pipeline(steps=[(&#x27;columntransformer&#x27;,\n",
              "                 ColumnTransformer(remainder=&#x27;passthrough&#x27;,\n",
              "                                   transformers=[(&#x27;onehotencoder&#x27;,\n",
              "                                                  OneHotEncoder(), [1]),\n",
              "                                                 (&#x27;ordinalencoder&#x27;,\n",
              "                                                  OrdinalEncoder(), [2, 3])])),\n",
              "                (&#x27;kneighborsclassifier&#x27;, KNeighborsClassifier())])</pre><b>Please rerun this cell to show the HTML repr or trust the notebook.</b></div><div class=\"sk-container\" hidden><div class=\"sk-item sk-dashed-wrapped\"><div class=\"sk-label-container\"><div class=\"sk-label sk-toggleable\"><input class=\"sk-toggleable__control sk-hidden--visually\" id=\"c346c118-f2a8-4fd4-b237-5515b5f08280\" type=\"checkbox\" ><label for=\"c346c118-f2a8-4fd4-b237-5515b5f08280\" class=\"sk-toggleable__label sk-toggleable__label-arrow\">Pipeline</label><div class=\"sk-toggleable__content\"><pre>Pipeline(steps=[(&#x27;columntransformer&#x27;,\n",
              "                 ColumnTransformer(remainder=&#x27;passthrough&#x27;,\n",
              "                                   transformers=[(&#x27;onehotencoder&#x27;,\n",
              "                                                  OneHotEncoder(), [1]),\n",
              "                                                 (&#x27;ordinalencoder&#x27;,\n",
              "                                                  OrdinalEncoder(), [2, 3])])),\n",
              "                (&#x27;kneighborsclassifier&#x27;, KNeighborsClassifier())])</pre></div></div></div><div class=\"sk-serial\"><div class=\"sk-item sk-dashed-wrapped\"><div class=\"sk-label-container\"><div class=\"sk-label sk-toggleable\"><input class=\"sk-toggleable__control sk-hidden--visually\" id=\"6601c5c9-0bb5-4eb5-a2e1-18e1e3a5e53f\" type=\"checkbox\" ><label for=\"6601c5c9-0bb5-4eb5-a2e1-18e1e3a5e53f\" class=\"sk-toggleable__label sk-toggleable__label-arrow\">columntransformer: ColumnTransformer</label><div class=\"sk-toggleable__content\"><pre>ColumnTransformer(remainder=&#x27;passthrough&#x27;,\n",
              "                  transformers=[(&#x27;onehotencoder&#x27;, OneHotEncoder(), [1]),\n",
              "                                (&#x27;ordinalencoder&#x27;, OrdinalEncoder(), [2, 3])])</pre></div></div></div><div class=\"sk-parallel\"><div class=\"sk-parallel-item\"><div class=\"sk-item\"><div class=\"sk-label-container\"><div class=\"sk-label sk-toggleable\"><input class=\"sk-toggleable__control sk-hidden--visually\" id=\"40133e83-49c2-4f3b-b7bd-c232c693ff74\" type=\"checkbox\" ><label for=\"40133e83-49c2-4f3b-b7bd-c232c693ff74\" class=\"sk-toggleable__label sk-toggleable__label-arrow\">onehotencoder</label><div class=\"sk-toggleable__content\"><pre>[1]</pre></div></div></div><div class=\"sk-serial\"><div class=\"sk-item\"><div class=\"sk-estimator sk-toggleable\"><input class=\"sk-toggleable__control sk-hidden--visually\" id=\"d493c665-cf03-494b-bd2a-ac70f4aa72ac\" type=\"checkbox\" ><label for=\"d493c665-cf03-494b-bd2a-ac70f4aa72ac\" class=\"sk-toggleable__label sk-toggleable__label-arrow\">OneHotEncoder</label><div class=\"sk-toggleable__content\"><pre>OneHotEncoder()</pre></div></div></div></div></div></div><div class=\"sk-parallel-item\"><div class=\"sk-item\"><div class=\"sk-label-container\"><div class=\"sk-label sk-toggleable\"><input class=\"sk-toggleable__control sk-hidden--visually\" id=\"6928757f-04d1-4c93-8cf6-675df06a506c\" type=\"checkbox\" ><label for=\"6928757f-04d1-4c93-8cf6-675df06a506c\" class=\"sk-toggleable__label sk-toggleable__label-arrow\">ordinalencoder</label><div class=\"sk-toggleable__content\"><pre>[2, 3]</pre></div></div></div><div class=\"sk-serial\"><div class=\"sk-item\"><div class=\"sk-estimator sk-toggleable\"><input class=\"sk-toggleable__control sk-hidden--visually\" id=\"0870c03a-8092-4614-aba2-21fa9b07dbab\" type=\"checkbox\" ><label for=\"0870c03a-8092-4614-aba2-21fa9b07dbab\" class=\"sk-toggleable__label sk-toggleable__label-arrow\">OrdinalEncoder</label><div class=\"sk-toggleable__content\"><pre>OrdinalEncoder()</pre></div></div></div></div></div></div><div class=\"sk-parallel-item\"><div class=\"sk-item\"><div class=\"sk-label-container\"><div class=\"sk-label sk-toggleable\"><input class=\"sk-toggleable__control sk-hidden--visually\" id=\"56298363-d56a-4640-a49a-f79b0dbffe6a\" type=\"checkbox\" ><label for=\"56298363-d56a-4640-a49a-f79b0dbffe6a\" class=\"sk-toggleable__label sk-toggleable__label-arrow\">remainder</label><div class=\"sk-toggleable__content\"><pre>[&#x27;Age&#x27;, &#x27;Na_to_K&#x27;]</pre></div></div></div><div class=\"sk-serial\"><div class=\"sk-item\"><div class=\"sk-estimator sk-toggleable\"><input class=\"sk-toggleable__control sk-hidden--visually\" id=\"201529d0-1bed-4bb6-ad24-313cb78548dd\" type=\"checkbox\" ><label for=\"201529d0-1bed-4bb6-ad24-313cb78548dd\" class=\"sk-toggleable__label sk-toggleable__label-arrow\">passthrough</label><div class=\"sk-toggleable__content\"><pre>passthrough</pre></div></div></div></div></div></div></div></div><div class=\"sk-item\"><div class=\"sk-estimator sk-toggleable\"><input class=\"sk-toggleable__control sk-hidden--visually\" id=\"1bc3f591-7327-4002-af55-cc1c516d416f\" type=\"checkbox\" ><label for=\"1bc3f591-7327-4002-af55-cc1c516d416f\" class=\"sk-toggleable__label sk-toggleable__label-arrow\">KNeighborsClassifier</label><div class=\"sk-toggleable__content\"><pre>KNeighborsClassifier()</pre></div></div></div></div></div></div></div>"
            ]
          },
          "metadata": {},
          "execution_count": 42
        }
      ]
    },
    {
      "cell_type": "code",
      "source": [
        "y_pred_train = pipline.predict(x_train)\n",
        "y_pred_test = pipline.predict(x_test)"
      ],
      "metadata": {
        "id": "TVPxi7gc6_dK"
      },
      "execution_count": 43,
      "outputs": []
    },
    {
      "cell_type": "code",
      "source": [
        "print(\"Training accuracy:\")\n",
        "print( accuracy_score(y_train, y_pred_train)*100)"
      ],
      "metadata": {
        "id": "p0l4QHwA7TYR",
        "colab": {
          "base_uri": "https://localhost:8080/"
        },
        "outputId": "41c5eb96-17c8-45ba-b1be-beaf0937cbf7"
      },
      "execution_count": 44,
      "outputs": [
        {
          "output_type": "stream",
          "name": "stdout",
          "text": [
            "Training accuracy:\n",
            "81.25\n"
          ]
        }
      ]
    },
    {
      "cell_type": "code",
      "source": [
        "print(\"Testing accuracy:\")\n",
        "print( accuracy_score(y_test, y_pred_test)*100)"
      ],
      "metadata": {
        "id": "SKFioKx67cyb",
        "colab": {
          "base_uri": "https://localhost:8080/"
        },
        "outputId": "c6116da2-c901-4837-9fe5-7fa7877f5ba0"
      },
      "execution_count": 45,
      "outputs": [
        {
          "output_type": "stream",
          "name": "stdout",
          "text": [
            "Testing accuracy:\n",
            "72.5\n"
          ]
        }
      ]
    },
    {
      "cell_type": "markdown",
      "source": [
        "#Decision Tree"
      ],
      "metadata": {
        "id": "W-4kMh6H7up8"
      }
    },
    {
      "cell_type": "code",
      "source": [
        "from sklearn.tree import DecisionTreeClassifier"
      ],
      "metadata": {
        "id": "ORG8V21M7yqC"
      },
      "execution_count": 31,
      "outputs": []
    },
    {
      "cell_type": "code",
      "source": [
        "tree = DecisionTreeClassifier()\n",
        "pipline= make_pipeline(trans,tree)\n",
        "pipline.fit(x_train,y_train)"
      ],
      "metadata": {
        "id": "7rffZcxG78sd",
        "colab": {
          "base_uri": "https://localhost:8080/",
          "height": 192
        },
        "outputId": "0f1dfb29-c217-4d07-a3b6-0076f1366b63"
      },
      "execution_count": 32,
      "outputs": [
        {
          "output_type": "execute_result",
          "data": {
            "text/plain": [
              "Pipeline(steps=[('columntransformer',\n",
              "                 ColumnTransformer(remainder='passthrough',\n",
              "                                   transformers=[('onehotencoder',\n",
              "                                                  OneHotEncoder(), [1]),\n",
              "                                                 ('ordinalencoder',\n",
              "                                                  OrdinalEncoder(), [2, 3])])),\n",
              "                ('decisiontreeclassifier', DecisionTreeClassifier())])"
            ],
            "text/html": [
              "<style>#sk-1a49d407-de3e-4cf5-813f-125b4d4bcb49 {color: black;background-color: white;}#sk-1a49d407-de3e-4cf5-813f-125b4d4bcb49 pre{padding: 0;}#sk-1a49d407-de3e-4cf5-813f-125b4d4bcb49 div.sk-toggleable {background-color: white;}#sk-1a49d407-de3e-4cf5-813f-125b4d4bcb49 label.sk-toggleable__label {cursor: pointer;display: block;width: 100%;margin-bottom: 0;padding: 0.3em;box-sizing: border-box;text-align: center;}#sk-1a49d407-de3e-4cf5-813f-125b4d4bcb49 label.sk-toggleable__label-arrow:before {content: \"▸\";float: left;margin-right: 0.25em;color: #696969;}#sk-1a49d407-de3e-4cf5-813f-125b4d4bcb49 label.sk-toggleable__label-arrow:hover:before {color: black;}#sk-1a49d407-de3e-4cf5-813f-125b4d4bcb49 div.sk-estimator:hover label.sk-toggleable__label-arrow:before {color: black;}#sk-1a49d407-de3e-4cf5-813f-125b4d4bcb49 div.sk-toggleable__content {max-height: 0;max-width: 0;overflow: hidden;text-align: left;background-color: #f0f8ff;}#sk-1a49d407-de3e-4cf5-813f-125b4d4bcb49 div.sk-toggleable__content pre {margin: 0.2em;color: black;border-radius: 0.25em;background-color: #f0f8ff;}#sk-1a49d407-de3e-4cf5-813f-125b4d4bcb49 input.sk-toggleable__control:checked~div.sk-toggleable__content {max-height: 200px;max-width: 100%;overflow: auto;}#sk-1a49d407-de3e-4cf5-813f-125b4d4bcb49 input.sk-toggleable__control:checked~label.sk-toggleable__label-arrow:before {content: \"▾\";}#sk-1a49d407-de3e-4cf5-813f-125b4d4bcb49 div.sk-estimator input.sk-toggleable__control:checked~label.sk-toggleable__label {background-color: #d4ebff;}#sk-1a49d407-de3e-4cf5-813f-125b4d4bcb49 div.sk-label input.sk-toggleable__control:checked~label.sk-toggleable__label {background-color: #d4ebff;}#sk-1a49d407-de3e-4cf5-813f-125b4d4bcb49 input.sk-hidden--visually {border: 0;clip: rect(1px 1px 1px 1px);clip: rect(1px, 1px, 1px, 1px);height: 1px;margin: -1px;overflow: hidden;padding: 0;position: absolute;width: 1px;}#sk-1a49d407-de3e-4cf5-813f-125b4d4bcb49 div.sk-estimator {font-family: monospace;background-color: #f0f8ff;border: 1px dotted black;border-radius: 0.25em;box-sizing: border-box;margin-bottom: 0.5em;}#sk-1a49d407-de3e-4cf5-813f-125b4d4bcb49 div.sk-estimator:hover {background-color: #d4ebff;}#sk-1a49d407-de3e-4cf5-813f-125b4d4bcb49 div.sk-parallel-item::after {content: \"\";width: 100%;border-bottom: 1px solid gray;flex-grow: 1;}#sk-1a49d407-de3e-4cf5-813f-125b4d4bcb49 div.sk-label:hover label.sk-toggleable__label {background-color: #d4ebff;}#sk-1a49d407-de3e-4cf5-813f-125b4d4bcb49 div.sk-serial::before {content: \"\";position: absolute;border-left: 1px solid gray;box-sizing: border-box;top: 2em;bottom: 0;left: 50%;}#sk-1a49d407-de3e-4cf5-813f-125b4d4bcb49 div.sk-serial {display: flex;flex-direction: column;align-items: center;background-color: white;padding-right: 0.2em;padding-left: 0.2em;}#sk-1a49d407-de3e-4cf5-813f-125b4d4bcb49 div.sk-item {z-index: 1;}#sk-1a49d407-de3e-4cf5-813f-125b4d4bcb49 div.sk-parallel {display: flex;align-items: stretch;justify-content: center;background-color: white;}#sk-1a49d407-de3e-4cf5-813f-125b4d4bcb49 div.sk-parallel::before {content: \"\";position: absolute;border-left: 1px solid gray;box-sizing: border-box;top: 2em;bottom: 0;left: 50%;}#sk-1a49d407-de3e-4cf5-813f-125b4d4bcb49 div.sk-parallel-item {display: flex;flex-direction: column;position: relative;background-color: white;}#sk-1a49d407-de3e-4cf5-813f-125b4d4bcb49 div.sk-parallel-item:first-child::after {align-self: flex-end;width: 50%;}#sk-1a49d407-de3e-4cf5-813f-125b4d4bcb49 div.sk-parallel-item:last-child::after {align-self: flex-start;width: 50%;}#sk-1a49d407-de3e-4cf5-813f-125b4d4bcb49 div.sk-parallel-item:only-child::after {width: 0;}#sk-1a49d407-de3e-4cf5-813f-125b4d4bcb49 div.sk-dashed-wrapped {border: 1px dashed gray;margin: 0 0.4em 0.5em 0.4em;box-sizing: border-box;padding-bottom: 0.4em;background-color: white;position: relative;}#sk-1a49d407-de3e-4cf5-813f-125b4d4bcb49 div.sk-label label {font-family: monospace;font-weight: bold;background-color: white;display: inline-block;line-height: 1.2em;}#sk-1a49d407-de3e-4cf5-813f-125b4d4bcb49 div.sk-label-container {position: relative;z-index: 2;text-align: center;}#sk-1a49d407-de3e-4cf5-813f-125b4d4bcb49 div.sk-container {/* jupyter's `normalize.less` sets `[hidden] { display: none; }` but bootstrap.min.css set `[hidden] { display: none !important; }` so we also need the `!important` here to be able to override the default hidden behavior on the sphinx rendered scikit-learn.org. See: https://github.com/scikit-learn/scikit-learn/issues/21755 */display: inline-block !important;position: relative;}#sk-1a49d407-de3e-4cf5-813f-125b4d4bcb49 div.sk-text-repr-fallback {display: none;}</style><div id=\"sk-1a49d407-de3e-4cf5-813f-125b4d4bcb49\" class=\"sk-top-container\"><div class=\"sk-text-repr-fallback\"><pre>Pipeline(steps=[(&#x27;columntransformer&#x27;,\n",
              "                 ColumnTransformer(remainder=&#x27;passthrough&#x27;,\n",
              "                                   transformers=[(&#x27;onehotencoder&#x27;,\n",
              "                                                  OneHotEncoder(), [1]),\n",
              "                                                 (&#x27;ordinalencoder&#x27;,\n",
              "                                                  OrdinalEncoder(), [2, 3])])),\n",
              "                (&#x27;decisiontreeclassifier&#x27;, DecisionTreeClassifier())])</pre><b>Please rerun this cell to show the HTML repr or trust the notebook.</b></div><div class=\"sk-container\" hidden><div class=\"sk-item sk-dashed-wrapped\"><div class=\"sk-label-container\"><div class=\"sk-label sk-toggleable\"><input class=\"sk-toggleable__control sk-hidden--visually\" id=\"809e01ad-5a83-4b71-aea5-2a51d3b7af2a\" type=\"checkbox\" ><label for=\"809e01ad-5a83-4b71-aea5-2a51d3b7af2a\" class=\"sk-toggleable__label sk-toggleable__label-arrow\">Pipeline</label><div class=\"sk-toggleable__content\"><pre>Pipeline(steps=[(&#x27;columntransformer&#x27;,\n",
              "                 ColumnTransformer(remainder=&#x27;passthrough&#x27;,\n",
              "                                   transformers=[(&#x27;onehotencoder&#x27;,\n",
              "                                                  OneHotEncoder(), [1]),\n",
              "                                                 (&#x27;ordinalencoder&#x27;,\n",
              "                                                  OrdinalEncoder(), [2, 3])])),\n",
              "                (&#x27;decisiontreeclassifier&#x27;, DecisionTreeClassifier())])</pre></div></div></div><div class=\"sk-serial\"><div class=\"sk-item sk-dashed-wrapped\"><div class=\"sk-label-container\"><div class=\"sk-label sk-toggleable\"><input class=\"sk-toggleable__control sk-hidden--visually\" id=\"350d747f-033d-490e-beff-3e5c29509512\" type=\"checkbox\" ><label for=\"350d747f-033d-490e-beff-3e5c29509512\" class=\"sk-toggleable__label sk-toggleable__label-arrow\">columntransformer: ColumnTransformer</label><div class=\"sk-toggleable__content\"><pre>ColumnTransformer(remainder=&#x27;passthrough&#x27;,\n",
              "                  transformers=[(&#x27;onehotencoder&#x27;, OneHotEncoder(), [1]),\n",
              "                                (&#x27;ordinalencoder&#x27;, OrdinalEncoder(), [2, 3])])</pre></div></div></div><div class=\"sk-parallel\"><div class=\"sk-parallel-item\"><div class=\"sk-item\"><div class=\"sk-label-container\"><div class=\"sk-label sk-toggleable\"><input class=\"sk-toggleable__control sk-hidden--visually\" id=\"dac4604b-8f3f-45b6-bbfb-e8217b3c9f76\" type=\"checkbox\" ><label for=\"dac4604b-8f3f-45b6-bbfb-e8217b3c9f76\" class=\"sk-toggleable__label sk-toggleable__label-arrow\">onehotencoder</label><div class=\"sk-toggleable__content\"><pre>[1]</pre></div></div></div><div class=\"sk-serial\"><div class=\"sk-item\"><div class=\"sk-estimator sk-toggleable\"><input class=\"sk-toggleable__control sk-hidden--visually\" id=\"a0afd82c-dc1a-4b3d-986a-193263f82f62\" type=\"checkbox\" ><label for=\"a0afd82c-dc1a-4b3d-986a-193263f82f62\" class=\"sk-toggleable__label sk-toggleable__label-arrow\">OneHotEncoder</label><div class=\"sk-toggleable__content\"><pre>OneHotEncoder()</pre></div></div></div></div></div></div><div class=\"sk-parallel-item\"><div class=\"sk-item\"><div class=\"sk-label-container\"><div class=\"sk-label sk-toggleable\"><input class=\"sk-toggleable__control sk-hidden--visually\" id=\"9d85e765-eacd-4cda-97a4-7fb6caba38f5\" type=\"checkbox\" ><label for=\"9d85e765-eacd-4cda-97a4-7fb6caba38f5\" class=\"sk-toggleable__label sk-toggleable__label-arrow\">ordinalencoder</label><div class=\"sk-toggleable__content\"><pre>[2, 3]</pre></div></div></div><div class=\"sk-serial\"><div class=\"sk-item\"><div class=\"sk-estimator sk-toggleable\"><input class=\"sk-toggleable__control sk-hidden--visually\" id=\"071553ef-b863-4528-8fc7-c502c4e5844f\" type=\"checkbox\" ><label for=\"071553ef-b863-4528-8fc7-c502c4e5844f\" class=\"sk-toggleable__label sk-toggleable__label-arrow\">OrdinalEncoder</label><div class=\"sk-toggleable__content\"><pre>OrdinalEncoder()</pre></div></div></div></div></div></div><div class=\"sk-parallel-item\"><div class=\"sk-item\"><div class=\"sk-label-container\"><div class=\"sk-label sk-toggleable\"><input class=\"sk-toggleable__control sk-hidden--visually\" id=\"a6783329-98ad-4315-8862-6865821f9ecb\" type=\"checkbox\" ><label for=\"a6783329-98ad-4315-8862-6865821f9ecb\" class=\"sk-toggleable__label sk-toggleable__label-arrow\">remainder</label><div class=\"sk-toggleable__content\"><pre>[&#x27;Age&#x27;, &#x27;Na_to_K&#x27;]</pre></div></div></div><div class=\"sk-serial\"><div class=\"sk-item\"><div class=\"sk-estimator sk-toggleable\"><input class=\"sk-toggleable__control sk-hidden--visually\" id=\"085ce1c3-4063-4a5e-b470-0f17f9e936c3\" type=\"checkbox\" ><label for=\"085ce1c3-4063-4a5e-b470-0f17f9e936c3\" class=\"sk-toggleable__label sk-toggleable__label-arrow\">passthrough</label><div class=\"sk-toggleable__content\"><pre>passthrough</pre></div></div></div></div></div></div></div></div><div class=\"sk-item\"><div class=\"sk-estimator sk-toggleable\"><input class=\"sk-toggleable__control sk-hidden--visually\" id=\"cf7c0b0a-b9f3-4770-a9d0-119fe55e749b\" type=\"checkbox\" ><label for=\"cf7c0b0a-b9f3-4770-a9d0-119fe55e749b\" class=\"sk-toggleable__label sk-toggleable__label-arrow\">DecisionTreeClassifier</label><div class=\"sk-toggleable__content\"><pre>DecisionTreeClassifier()</pre></div></div></div></div></div></div></div>"
            ]
          },
          "metadata": {},
          "execution_count": 32
        }
      ]
    },
    {
      "cell_type": "code",
      "source": [
        "y_pred_train = pipline.predict(x_train)\n",
        "y_pred_test = pipline.predict(x_test)"
      ],
      "metadata": {
        "id": "GnVPnX3R8AbR"
      },
      "execution_count": 33,
      "outputs": []
    },
    {
      "cell_type": "code",
      "source": [
        "print(\"Training accuracy:\")\n",
        "print( accuracy_score(y_train, y_pred_train)*100)"
      ],
      "metadata": {
        "id": "ONKQydFg8F59",
        "colab": {
          "base_uri": "https://localhost:8080/"
        },
        "outputId": "d45004a3-32c1-46de-f815-05125eea13ad"
      },
      "execution_count": 34,
      "outputs": [
        {
          "output_type": "stream",
          "name": "stdout",
          "text": [
            "Training accuracy:\n",
            "100.0\n"
          ]
        }
      ]
    },
    {
      "cell_type": "code",
      "source": [
        "print(\"Testing accuracy:\")\n",
        "print( accuracy_score(y_test, y_pred_test)*100)"
      ],
      "metadata": {
        "id": "yeM_pVL48Rwt",
        "colab": {
          "base_uri": "https://localhost:8080/"
        },
        "outputId": "51048441-4e38-4cc0-bc7e-e70cdf0c9a85"
      },
      "execution_count": 35,
      "outputs": [
        {
          "output_type": "stream",
          "name": "stdout",
          "text": [
            "Testing accuracy:\n",
            "100.0\n"
          ]
        }
      ]
    },
    {
      "cell_type": "markdown",
      "source": [
        "#Naive Bayes Classifier"
      ],
      "metadata": {
        "id": "WYg-O3bv4beJ"
      }
    },
    {
      "cell_type": "code",
      "source": [
        "from sklearn.naive_bayes import GaussianNB\n"
      ],
      "metadata": {
        "id": "BWWlxZzP49ZG"
      },
      "execution_count": 36,
      "outputs": []
    },
    {
      "cell_type": "code",
      "source": [
        "gnb = GaussianNB()\n",
        "pipline= make_pipeline(trans,gnb)\n",
        "pipline.fit(x_train,y_train)"
      ],
      "metadata": {
        "id": "UKfF-cyb7pWe",
        "colab": {
          "base_uri": "https://localhost:8080/",
          "height": 192
        },
        "outputId": "9f036bbb-619a-4a55-fd42-278e74816ca2"
      },
      "execution_count": 37,
      "outputs": [
        {
          "output_type": "execute_result",
          "data": {
            "text/plain": [
              "Pipeline(steps=[('columntransformer',\n",
              "                 ColumnTransformer(remainder='passthrough',\n",
              "                                   transformers=[('onehotencoder',\n",
              "                                                  OneHotEncoder(), [1]),\n",
              "                                                 ('ordinalencoder',\n",
              "                                                  OrdinalEncoder(), [2, 3])])),\n",
              "                ('gaussiannb', GaussianNB())])"
            ],
            "text/html": [
              "<style>#sk-4a45a2ef-9a33-4a3f-807e-c769a69c3bcf {color: black;background-color: white;}#sk-4a45a2ef-9a33-4a3f-807e-c769a69c3bcf pre{padding: 0;}#sk-4a45a2ef-9a33-4a3f-807e-c769a69c3bcf div.sk-toggleable {background-color: white;}#sk-4a45a2ef-9a33-4a3f-807e-c769a69c3bcf label.sk-toggleable__label {cursor: pointer;display: block;width: 100%;margin-bottom: 0;padding: 0.3em;box-sizing: border-box;text-align: center;}#sk-4a45a2ef-9a33-4a3f-807e-c769a69c3bcf label.sk-toggleable__label-arrow:before {content: \"▸\";float: left;margin-right: 0.25em;color: #696969;}#sk-4a45a2ef-9a33-4a3f-807e-c769a69c3bcf label.sk-toggleable__label-arrow:hover:before {color: black;}#sk-4a45a2ef-9a33-4a3f-807e-c769a69c3bcf div.sk-estimator:hover label.sk-toggleable__label-arrow:before {color: black;}#sk-4a45a2ef-9a33-4a3f-807e-c769a69c3bcf div.sk-toggleable__content {max-height: 0;max-width: 0;overflow: hidden;text-align: left;background-color: #f0f8ff;}#sk-4a45a2ef-9a33-4a3f-807e-c769a69c3bcf div.sk-toggleable__content pre {margin: 0.2em;color: black;border-radius: 0.25em;background-color: #f0f8ff;}#sk-4a45a2ef-9a33-4a3f-807e-c769a69c3bcf input.sk-toggleable__control:checked~div.sk-toggleable__content {max-height: 200px;max-width: 100%;overflow: auto;}#sk-4a45a2ef-9a33-4a3f-807e-c769a69c3bcf input.sk-toggleable__control:checked~label.sk-toggleable__label-arrow:before {content: \"▾\";}#sk-4a45a2ef-9a33-4a3f-807e-c769a69c3bcf div.sk-estimator input.sk-toggleable__control:checked~label.sk-toggleable__label {background-color: #d4ebff;}#sk-4a45a2ef-9a33-4a3f-807e-c769a69c3bcf div.sk-label input.sk-toggleable__control:checked~label.sk-toggleable__label {background-color: #d4ebff;}#sk-4a45a2ef-9a33-4a3f-807e-c769a69c3bcf input.sk-hidden--visually {border: 0;clip: rect(1px 1px 1px 1px);clip: rect(1px, 1px, 1px, 1px);height: 1px;margin: -1px;overflow: hidden;padding: 0;position: absolute;width: 1px;}#sk-4a45a2ef-9a33-4a3f-807e-c769a69c3bcf div.sk-estimator {font-family: monospace;background-color: #f0f8ff;border: 1px dotted black;border-radius: 0.25em;box-sizing: border-box;margin-bottom: 0.5em;}#sk-4a45a2ef-9a33-4a3f-807e-c769a69c3bcf div.sk-estimator:hover {background-color: #d4ebff;}#sk-4a45a2ef-9a33-4a3f-807e-c769a69c3bcf div.sk-parallel-item::after {content: \"\";width: 100%;border-bottom: 1px solid gray;flex-grow: 1;}#sk-4a45a2ef-9a33-4a3f-807e-c769a69c3bcf div.sk-label:hover label.sk-toggleable__label {background-color: #d4ebff;}#sk-4a45a2ef-9a33-4a3f-807e-c769a69c3bcf div.sk-serial::before {content: \"\";position: absolute;border-left: 1px solid gray;box-sizing: border-box;top: 2em;bottom: 0;left: 50%;}#sk-4a45a2ef-9a33-4a3f-807e-c769a69c3bcf div.sk-serial {display: flex;flex-direction: column;align-items: center;background-color: white;padding-right: 0.2em;padding-left: 0.2em;}#sk-4a45a2ef-9a33-4a3f-807e-c769a69c3bcf div.sk-item {z-index: 1;}#sk-4a45a2ef-9a33-4a3f-807e-c769a69c3bcf div.sk-parallel {display: flex;align-items: stretch;justify-content: center;background-color: white;}#sk-4a45a2ef-9a33-4a3f-807e-c769a69c3bcf div.sk-parallel::before {content: \"\";position: absolute;border-left: 1px solid gray;box-sizing: border-box;top: 2em;bottom: 0;left: 50%;}#sk-4a45a2ef-9a33-4a3f-807e-c769a69c3bcf div.sk-parallel-item {display: flex;flex-direction: column;position: relative;background-color: white;}#sk-4a45a2ef-9a33-4a3f-807e-c769a69c3bcf div.sk-parallel-item:first-child::after {align-self: flex-end;width: 50%;}#sk-4a45a2ef-9a33-4a3f-807e-c769a69c3bcf div.sk-parallel-item:last-child::after {align-self: flex-start;width: 50%;}#sk-4a45a2ef-9a33-4a3f-807e-c769a69c3bcf div.sk-parallel-item:only-child::after {width: 0;}#sk-4a45a2ef-9a33-4a3f-807e-c769a69c3bcf div.sk-dashed-wrapped {border: 1px dashed gray;margin: 0 0.4em 0.5em 0.4em;box-sizing: border-box;padding-bottom: 0.4em;background-color: white;position: relative;}#sk-4a45a2ef-9a33-4a3f-807e-c769a69c3bcf div.sk-label label {font-family: monospace;font-weight: bold;background-color: white;display: inline-block;line-height: 1.2em;}#sk-4a45a2ef-9a33-4a3f-807e-c769a69c3bcf div.sk-label-container {position: relative;z-index: 2;text-align: center;}#sk-4a45a2ef-9a33-4a3f-807e-c769a69c3bcf div.sk-container {/* jupyter's `normalize.less` sets `[hidden] { display: none; }` but bootstrap.min.css set `[hidden] { display: none !important; }` so we also need the `!important` here to be able to override the default hidden behavior on the sphinx rendered scikit-learn.org. See: https://github.com/scikit-learn/scikit-learn/issues/21755 */display: inline-block !important;position: relative;}#sk-4a45a2ef-9a33-4a3f-807e-c769a69c3bcf div.sk-text-repr-fallback {display: none;}</style><div id=\"sk-4a45a2ef-9a33-4a3f-807e-c769a69c3bcf\" class=\"sk-top-container\"><div class=\"sk-text-repr-fallback\"><pre>Pipeline(steps=[(&#x27;columntransformer&#x27;,\n",
              "                 ColumnTransformer(remainder=&#x27;passthrough&#x27;,\n",
              "                                   transformers=[(&#x27;onehotencoder&#x27;,\n",
              "                                                  OneHotEncoder(), [1]),\n",
              "                                                 (&#x27;ordinalencoder&#x27;,\n",
              "                                                  OrdinalEncoder(), [2, 3])])),\n",
              "                (&#x27;gaussiannb&#x27;, GaussianNB())])</pre><b>Please rerun this cell to show the HTML repr or trust the notebook.</b></div><div class=\"sk-container\" hidden><div class=\"sk-item sk-dashed-wrapped\"><div class=\"sk-label-container\"><div class=\"sk-label sk-toggleable\"><input class=\"sk-toggleable__control sk-hidden--visually\" id=\"e083bb8c-0cdf-4086-a680-011eac18484b\" type=\"checkbox\" ><label for=\"e083bb8c-0cdf-4086-a680-011eac18484b\" class=\"sk-toggleable__label sk-toggleable__label-arrow\">Pipeline</label><div class=\"sk-toggleable__content\"><pre>Pipeline(steps=[(&#x27;columntransformer&#x27;,\n",
              "                 ColumnTransformer(remainder=&#x27;passthrough&#x27;,\n",
              "                                   transformers=[(&#x27;onehotencoder&#x27;,\n",
              "                                                  OneHotEncoder(), [1]),\n",
              "                                                 (&#x27;ordinalencoder&#x27;,\n",
              "                                                  OrdinalEncoder(), [2, 3])])),\n",
              "                (&#x27;gaussiannb&#x27;, GaussianNB())])</pre></div></div></div><div class=\"sk-serial\"><div class=\"sk-item sk-dashed-wrapped\"><div class=\"sk-label-container\"><div class=\"sk-label sk-toggleable\"><input class=\"sk-toggleable__control sk-hidden--visually\" id=\"17d2be18-7fc8-4b8c-9474-9252be5f9aa0\" type=\"checkbox\" ><label for=\"17d2be18-7fc8-4b8c-9474-9252be5f9aa0\" class=\"sk-toggleable__label sk-toggleable__label-arrow\">columntransformer: ColumnTransformer</label><div class=\"sk-toggleable__content\"><pre>ColumnTransformer(remainder=&#x27;passthrough&#x27;,\n",
              "                  transformers=[(&#x27;onehotencoder&#x27;, OneHotEncoder(), [1]),\n",
              "                                (&#x27;ordinalencoder&#x27;, OrdinalEncoder(), [2, 3])])</pre></div></div></div><div class=\"sk-parallel\"><div class=\"sk-parallel-item\"><div class=\"sk-item\"><div class=\"sk-label-container\"><div class=\"sk-label sk-toggleable\"><input class=\"sk-toggleable__control sk-hidden--visually\" id=\"fda6223e-74e5-40e6-9569-a8311e4085ca\" type=\"checkbox\" ><label for=\"fda6223e-74e5-40e6-9569-a8311e4085ca\" class=\"sk-toggleable__label sk-toggleable__label-arrow\">onehotencoder</label><div class=\"sk-toggleable__content\"><pre>[1]</pre></div></div></div><div class=\"sk-serial\"><div class=\"sk-item\"><div class=\"sk-estimator sk-toggleable\"><input class=\"sk-toggleable__control sk-hidden--visually\" id=\"7e278b49-0db7-4bda-927a-87e6fa900e57\" type=\"checkbox\" ><label for=\"7e278b49-0db7-4bda-927a-87e6fa900e57\" class=\"sk-toggleable__label sk-toggleable__label-arrow\">OneHotEncoder</label><div class=\"sk-toggleable__content\"><pre>OneHotEncoder()</pre></div></div></div></div></div></div><div class=\"sk-parallel-item\"><div class=\"sk-item\"><div class=\"sk-label-container\"><div class=\"sk-label sk-toggleable\"><input class=\"sk-toggleable__control sk-hidden--visually\" id=\"85f1c3f9-576b-46c8-b951-563a4fc7a7da\" type=\"checkbox\" ><label for=\"85f1c3f9-576b-46c8-b951-563a4fc7a7da\" class=\"sk-toggleable__label sk-toggleable__label-arrow\">ordinalencoder</label><div class=\"sk-toggleable__content\"><pre>[2, 3]</pre></div></div></div><div class=\"sk-serial\"><div class=\"sk-item\"><div class=\"sk-estimator sk-toggleable\"><input class=\"sk-toggleable__control sk-hidden--visually\" id=\"3f127ca6-7135-49be-b0cd-fc136472aa7d\" type=\"checkbox\" ><label for=\"3f127ca6-7135-49be-b0cd-fc136472aa7d\" class=\"sk-toggleable__label sk-toggleable__label-arrow\">OrdinalEncoder</label><div class=\"sk-toggleable__content\"><pre>OrdinalEncoder()</pre></div></div></div></div></div></div><div class=\"sk-parallel-item\"><div class=\"sk-item\"><div class=\"sk-label-container\"><div class=\"sk-label sk-toggleable\"><input class=\"sk-toggleable__control sk-hidden--visually\" id=\"5ae4e08f-7de8-4c8e-a5ea-5869bab60f84\" type=\"checkbox\" ><label for=\"5ae4e08f-7de8-4c8e-a5ea-5869bab60f84\" class=\"sk-toggleable__label sk-toggleable__label-arrow\">remainder</label><div class=\"sk-toggleable__content\"><pre>[&#x27;Age&#x27;, &#x27;Na_to_K&#x27;]</pre></div></div></div><div class=\"sk-serial\"><div class=\"sk-item\"><div class=\"sk-estimator sk-toggleable\"><input class=\"sk-toggleable__control sk-hidden--visually\" id=\"44d93232-54b3-426a-b502-9d525cb7273c\" type=\"checkbox\" ><label for=\"44d93232-54b3-426a-b502-9d525cb7273c\" class=\"sk-toggleable__label sk-toggleable__label-arrow\">passthrough</label><div class=\"sk-toggleable__content\"><pre>passthrough</pre></div></div></div></div></div></div></div></div><div class=\"sk-item\"><div class=\"sk-estimator sk-toggleable\"><input class=\"sk-toggleable__control sk-hidden--visually\" id=\"01d304e2-adf6-4592-a7ed-f6eff49fdc06\" type=\"checkbox\" ><label for=\"01d304e2-adf6-4592-a7ed-f6eff49fdc06\" class=\"sk-toggleable__label sk-toggleable__label-arrow\">GaussianNB</label><div class=\"sk-toggleable__content\"><pre>GaussianNB()</pre></div></div></div></div></div></div></div>"
            ]
          },
          "metadata": {},
          "execution_count": 37
        }
      ]
    },
    {
      "cell_type": "code",
      "source": [
        "y_pred_train = pipline.predict(x_train)\n",
        "y_pred_test = pipline.predict(x_test)"
      ],
      "metadata": {
        "id": "ccJmXuhk5jqS"
      },
      "execution_count": 38,
      "outputs": []
    },
    {
      "cell_type": "code",
      "source": [
        "print(\"Training accuracy:\")\n",
        "print( accuracy_score(y_train, y_pred_train)*100)"
      ],
      "metadata": {
        "id": "d8IS09OE5sKU",
        "colab": {
          "base_uri": "https://localhost:8080/"
        },
        "outputId": "3c571c64-c178-4e92-f383-da3df8801d6d"
      },
      "execution_count": 39,
      "outputs": [
        {
          "output_type": "stream",
          "name": "stdout",
          "text": [
            "Training accuracy:\n",
            "86.25\n"
          ]
        }
      ]
    },
    {
      "cell_type": "code",
      "source": [
        "print(\"Testing accuracy:\")\n",
        "print( accuracy_score(y_test, y_pred_test)*100)"
      ],
      "metadata": {
        "id": "NEuaezAl54GP",
        "colab": {
          "base_uri": "https://localhost:8080/"
        },
        "outputId": "a4d50984-0b64-4229-cd5f-eb486df745e6"
      },
      "execution_count": 40,
      "outputs": [
        {
          "output_type": "stream",
          "name": "stdout",
          "text": [
            "Testing accuracy:\n",
            "90.0\n"
          ]
        }
      ]
    }
  ]
}